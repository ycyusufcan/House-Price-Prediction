{
 "cells": [
  {
   "cell_type": "code",
   "execution_count": 2,
   "id": "1e67f552",
   "metadata": {
    "id": "1e67f552"
   },
   "outputs": [],
   "source": [
    "import numpy as np\n",
    "import pandas as pd\n",
    "import matplotlib.pyplot as plt\n",
    "import seaborn as sns\n",
    "import warnings\n",
    "warnings.filterwarnings('ignore')"
   ]
  },
  {
   "cell_type": "code",
   "execution_count": 3,
   "id": "27f66701",
   "metadata": {
    "id": "27f66701"
   },
   "outputs": [],
   "source": [
    "df = pd.read_csv(\"data/training.csv\")"
   ]
  },
  {
   "cell_type": "code",
   "execution_count": 4,
   "id": "52fbb114",
   "metadata": {
    "colab": {
     "base_uri": "https://localhost:8080/",
     "height": 488
    },
    "id": "52fbb114",
    "outputId": "88989b5c-dcf4-4b59-9fc6-9121d40fa3ea"
   },
   "outputs": [
    {
     "data": {
      "text/html": [
       "<div>\n",
       "<style scoped>\n",
       "    .dataframe tbody tr th:only-of-type {\n",
       "        vertical-align: middle;\n",
       "    }\n",
       "\n",
       "    .dataframe tbody tr th {\n",
       "        vertical-align: top;\n",
       "    }\n",
       "\n",
       "    .dataframe thead th {\n",
       "        text-align: right;\n",
       "    }\n",
       "</style>\n",
       "<table border=\"1\" class=\"dataframe\">\n",
       "  <thead>\n",
       "    <tr style=\"text-align: right;\">\n",
       "      <th></th>\n",
       "      <th>Id</th>\n",
       "      <th>MSSubClass</th>\n",
       "      <th>MSZoning</th>\n",
       "      <th>LotFrontage</th>\n",
       "      <th>LotArea</th>\n",
       "      <th>Street</th>\n",
       "      <th>Alley</th>\n",
       "      <th>LotShape</th>\n",
       "      <th>LandContour</th>\n",
       "      <th>Utilities</th>\n",
       "      <th>...</th>\n",
       "      <th>PoolArea</th>\n",
       "      <th>PoolQC</th>\n",
       "      <th>Fence</th>\n",
       "      <th>MiscFeature</th>\n",
       "      <th>MiscVal</th>\n",
       "      <th>MoSold</th>\n",
       "      <th>YrSold</th>\n",
       "      <th>SaleType</th>\n",
       "      <th>SaleCondition</th>\n",
       "      <th>SalePrice</th>\n",
       "    </tr>\n",
       "  </thead>\n",
       "  <tbody>\n",
       "    <tr>\n",
       "      <th>0</th>\n",
       "      <td>1002</td>\n",
       "      <td>20</td>\n",
       "      <td>RL</td>\n",
       "      <td>75.0</td>\n",
       "      <td>11957</td>\n",
       "      <td>Pave</td>\n",
       "      <td>NaN</td>\n",
       "      <td>IR1</td>\n",
       "      <td>Lvl</td>\n",
       "      <td>AllPub</td>\n",
       "      <td>...</td>\n",
       "      <td>0</td>\n",
       "      <td>NaN</td>\n",
       "      <td>NaN</td>\n",
       "      <td>NaN</td>\n",
       "      <td>0</td>\n",
       "      <td>7</td>\n",
       "      <td>2008</td>\n",
       "      <td>WD</td>\n",
       "      <td>Normal</td>\n",
       "      <td>232000</td>\n",
       "    </tr>\n",
       "    <tr>\n",
       "      <th>1</th>\n",
       "      <td>1237</td>\n",
       "      <td>60</td>\n",
       "      <td>RL</td>\n",
       "      <td>41.0</td>\n",
       "      <td>12393</td>\n",
       "      <td>Pave</td>\n",
       "      <td>NaN</td>\n",
       "      <td>IR2</td>\n",
       "      <td>Lvl</td>\n",
       "      <td>AllPub</td>\n",
       "      <td>...</td>\n",
       "      <td>0</td>\n",
       "      <td>NaN</td>\n",
       "      <td>NaN</td>\n",
       "      <td>NaN</td>\n",
       "      <td>0</td>\n",
       "      <td>9</td>\n",
       "      <td>2006</td>\n",
       "      <td>WD</td>\n",
       "      <td>Normal</td>\n",
       "      <td>195000</td>\n",
       "    </tr>\n",
       "    <tr>\n",
       "      <th>2</th>\n",
       "      <td>1378</td>\n",
       "      <td>160</td>\n",
       "      <td>RM</td>\n",
       "      <td>21.0</td>\n",
       "      <td>1953</td>\n",
       "      <td>Pave</td>\n",
       "      <td>NaN</td>\n",
       "      <td>Reg</td>\n",
       "      <td>Lvl</td>\n",
       "      <td>AllPub</td>\n",
       "      <td>...</td>\n",
       "      <td>0</td>\n",
       "      <td>NaN</td>\n",
       "      <td>NaN</td>\n",
       "      <td>NaN</td>\n",
       "      <td>0</td>\n",
       "      <td>6</td>\n",
       "      <td>2006</td>\n",
       "      <td>WD</td>\n",
       "      <td>Normal</td>\n",
       "      <td>83000</td>\n",
       "    </tr>\n",
       "    <tr>\n",
       "      <th>3</th>\n",
       "      <td>121</td>\n",
       "      <td>50</td>\n",
       "      <td>RM</td>\n",
       "      <td>50.0</td>\n",
       "      <td>6060</td>\n",
       "      <td>Pave</td>\n",
       "      <td>NaN</td>\n",
       "      <td>Reg</td>\n",
       "      <td>Lvl</td>\n",
       "      <td>AllPub</td>\n",
       "      <td>...</td>\n",
       "      <td>0</td>\n",
       "      <td>NaN</td>\n",
       "      <td>MnPrv</td>\n",
       "      <td>NaN</td>\n",
       "      <td>0</td>\n",
       "      <td>6</td>\n",
       "      <td>2007</td>\n",
       "      <td>WD</td>\n",
       "      <td>Normal</td>\n",
       "      <td>100000</td>\n",
       "    </tr>\n",
       "    <tr>\n",
       "      <th>4</th>\n",
       "      <td>389</td>\n",
       "      <td>60</td>\n",
       "      <td>RL</td>\n",
       "      <td>96.0</td>\n",
       "      <td>12474</td>\n",
       "      <td>Pave</td>\n",
       "      <td>NaN</td>\n",
       "      <td>Reg</td>\n",
       "      <td>Lvl</td>\n",
       "      <td>AllPub</td>\n",
       "      <td>...</td>\n",
       "      <td>0</td>\n",
       "      <td>NaN</td>\n",
       "      <td>NaN</td>\n",
       "      <td>NaN</td>\n",
       "      <td>0</td>\n",
       "      <td>8</td>\n",
       "      <td>2008</td>\n",
       "      <td>New</td>\n",
       "      <td>Partial</td>\n",
       "      <td>426000</td>\n",
       "    </tr>\n",
       "    <tr>\n",
       "      <th>...</th>\n",
       "      <td>...</td>\n",
       "      <td>...</td>\n",
       "      <td>...</td>\n",
       "      <td>...</td>\n",
       "      <td>...</td>\n",
       "      <td>...</td>\n",
       "      <td>...</td>\n",
       "      <td>...</td>\n",
       "      <td>...</td>\n",
       "      <td>...</td>\n",
       "      <td>...</td>\n",
       "      <td>...</td>\n",
       "      <td>...</td>\n",
       "      <td>...</td>\n",
       "      <td>...</td>\n",
       "      <td>...</td>\n",
       "      <td>...</td>\n",
       "      <td>...</td>\n",
       "      <td>...</td>\n",
       "      <td>...</td>\n",
       "      <td>...</td>\n",
       "    </tr>\n",
       "    <tr>\n",
       "      <th>1163</th>\n",
       "      <td>365</td>\n",
       "      <td>70</td>\n",
       "      <td>RM</td>\n",
       "      <td>59.0</td>\n",
       "      <td>10690</td>\n",
       "      <td>Pave</td>\n",
       "      <td>NaN</td>\n",
       "      <td>Reg</td>\n",
       "      <td>Lvl</td>\n",
       "      <td>AllPub</td>\n",
       "      <td>...</td>\n",
       "      <td>0</td>\n",
       "      <td>NaN</td>\n",
       "      <td>NaN</td>\n",
       "      <td>NaN</td>\n",
       "      <td>0</td>\n",
       "      <td>7</td>\n",
       "      <td>2009</td>\n",
       "      <td>WD</td>\n",
       "      <td>Normal</td>\n",
       "      <td>147000</td>\n",
       "    </tr>\n",
       "    <tr>\n",
       "      <th>1164</th>\n",
       "      <td>818</td>\n",
       "      <td>80</td>\n",
       "      <td>RL</td>\n",
       "      <td>80.0</td>\n",
       "      <td>8816</td>\n",
       "      <td>Pave</td>\n",
       "      <td>NaN</td>\n",
       "      <td>Reg</td>\n",
       "      <td>Lvl</td>\n",
       "      <td>AllPub</td>\n",
       "      <td>...</td>\n",
       "      <td>0</td>\n",
       "      <td>NaN</td>\n",
       "      <td>MnPrv</td>\n",
       "      <td>NaN</td>\n",
       "      <td>0</td>\n",
       "      <td>6</td>\n",
       "      <td>2010</td>\n",
       "      <td>WD</td>\n",
       "      <td>Normal</td>\n",
       "      <td>155000</td>\n",
       "    </tr>\n",
       "    <tr>\n",
       "      <th>1165</th>\n",
       "      <td>125</td>\n",
       "      <td>190</td>\n",
       "      <td>RM</td>\n",
       "      <td>60.0</td>\n",
       "      <td>6780</td>\n",
       "      <td>Pave</td>\n",
       "      <td>NaN</td>\n",
       "      <td>Reg</td>\n",
       "      <td>Lvl</td>\n",
       "      <td>AllPub</td>\n",
       "      <td>...</td>\n",
       "      <td>0</td>\n",
       "      <td>NaN</td>\n",
       "      <td>NaN</td>\n",
       "      <td>NaN</td>\n",
       "      <td>0</td>\n",
       "      <td>6</td>\n",
       "      <td>2006</td>\n",
       "      <td>WD</td>\n",
       "      <td>Normal</td>\n",
       "      <td>84500</td>\n",
       "    </tr>\n",
       "    <tr>\n",
       "      <th>1166</th>\n",
       "      <td>866</td>\n",
       "      <td>20</td>\n",
       "      <td>RL</td>\n",
       "      <td>67.0</td>\n",
       "      <td>10656</td>\n",
       "      <td>Pave</td>\n",
       "      <td>NaN</td>\n",
       "      <td>IR1</td>\n",
       "      <td>HLS</td>\n",
       "      <td>AllPub</td>\n",
       "      <td>...</td>\n",
       "      <td>0</td>\n",
       "      <td>NaN</td>\n",
       "      <td>NaN</td>\n",
       "      <td>NaN</td>\n",
       "      <td>0</td>\n",
       "      <td>11</td>\n",
       "      <td>2007</td>\n",
       "      <td>New</td>\n",
       "      <td>Partial</td>\n",
       "      <td>248900</td>\n",
       "    </tr>\n",
       "    <tr>\n",
       "      <th>1167</th>\n",
       "      <td>1437</td>\n",
       "      <td>20</td>\n",
       "      <td>RL</td>\n",
       "      <td>96.0</td>\n",
       "      <td>12444</td>\n",
       "      <td>Pave</td>\n",
       "      <td>NaN</td>\n",
       "      <td>Reg</td>\n",
       "      <td>Lvl</td>\n",
       "      <td>AllPub</td>\n",
       "      <td>...</td>\n",
       "      <td>0</td>\n",
       "      <td>NaN</td>\n",
       "      <td>NaN</td>\n",
       "      <td>NaN</td>\n",
       "      <td>0</td>\n",
       "      <td>11</td>\n",
       "      <td>2008</td>\n",
       "      <td>New</td>\n",
       "      <td>Partial</td>\n",
       "      <td>394617</td>\n",
       "    </tr>\n",
       "  </tbody>\n",
       "</table>\n",
       "<p>1168 rows × 81 columns</p>\n",
       "</div>"
      ],
      "text/plain": [
       "        Id  MSSubClass MSZoning  LotFrontage  LotArea Street Alley LotShape  \\\n",
       "0     1002          20       RL         75.0    11957   Pave   NaN      IR1   \n",
       "1     1237          60       RL         41.0    12393   Pave   NaN      IR2   \n",
       "2     1378         160       RM         21.0     1953   Pave   NaN      Reg   \n",
       "3      121          50       RM         50.0     6060   Pave   NaN      Reg   \n",
       "4      389          60       RL         96.0    12474   Pave   NaN      Reg   \n",
       "...    ...         ...      ...          ...      ...    ...   ...      ...   \n",
       "1163   365          70       RM         59.0    10690   Pave   NaN      Reg   \n",
       "1164   818          80       RL         80.0     8816   Pave   NaN      Reg   \n",
       "1165   125         190       RM         60.0     6780   Pave   NaN      Reg   \n",
       "1166   866          20       RL         67.0    10656   Pave   NaN      IR1   \n",
       "1167  1437          20       RL         96.0    12444   Pave   NaN      Reg   \n",
       "\n",
       "     LandContour Utilities  ... PoolArea PoolQC  Fence MiscFeature MiscVal  \\\n",
       "0            Lvl    AllPub  ...        0    NaN    NaN         NaN       0   \n",
       "1            Lvl    AllPub  ...        0    NaN    NaN         NaN       0   \n",
       "2            Lvl    AllPub  ...        0    NaN    NaN         NaN       0   \n",
       "3            Lvl    AllPub  ...        0    NaN  MnPrv         NaN       0   \n",
       "4            Lvl    AllPub  ...        0    NaN    NaN         NaN       0   \n",
       "...          ...       ...  ...      ...    ...    ...         ...     ...   \n",
       "1163         Lvl    AllPub  ...        0    NaN    NaN         NaN       0   \n",
       "1164         Lvl    AllPub  ...        0    NaN  MnPrv         NaN       0   \n",
       "1165         Lvl    AllPub  ...        0    NaN    NaN         NaN       0   \n",
       "1166         HLS    AllPub  ...        0    NaN    NaN         NaN       0   \n",
       "1167         Lvl    AllPub  ...        0    NaN    NaN         NaN       0   \n",
       "\n",
       "     MoSold YrSold  SaleType  SaleCondition  SalePrice  \n",
       "0         7   2008        WD         Normal     232000  \n",
       "1         9   2006        WD         Normal     195000  \n",
       "2         6   2006        WD         Normal      83000  \n",
       "3         6   2007        WD         Normal     100000  \n",
       "4         8   2008       New        Partial     426000  \n",
       "...     ...    ...       ...            ...        ...  \n",
       "1163      7   2009        WD         Normal     147000  \n",
       "1164      6   2010        WD         Normal     155000  \n",
       "1165      6   2006        WD         Normal      84500  \n",
       "1166     11   2007       New        Partial     248900  \n",
       "1167     11   2008       New        Partial     394617  \n",
       "\n",
       "[1168 rows x 81 columns]"
      ]
     },
     "execution_count": 4,
     "metadata": {},
     "output_type": "execute_result"
    }
   ],
   "source": [
    "df"
   ]
  },
  {
   "cell_type": "code",
   "execution_count": null,
   "id": "d19f3191",
   "metadata": {},
   "outputs": [],
   "source": [
    "plt.figure(figsize=(16,8))\n",
    "sns.heatmap(df.isnull().T,  cmap = 'viridis')"
   ]
  },
  {
   "cell_type": "code",
   "execution_count": 5,
   "id": "118aebea",
   "metadata": {
    "colab": {
     "base_uri": "https://localhost:8080/"
    },
    "id": "118aebea",
    "outputId": "00d83754-b755-4724-da0a-ef6b0144b224"
   },
   "outputs": [
    {
     "data": {
      "text/plain": [
       "PoolQC         1164\n",
       "MiscFeature    1122\n",
       "Alley          1096\n",
       "Fence           934\n",
       "FireplaceQu     568\n",
       "               ... \n",
       "ExterQual         0\n",
       "Exterior2nd       0\n",
       "Exterior1st       0\n",
       "RoofMatl          0\n",
       "SalePrice         0\n",
       "Length: 81, dtype: int64"
      ]
     },
     "execution_count": 5,
     "metadata": {},
     "output_type": "execute_result"
    }
   ],
   "source": [
    "df.isnull().sum().sort_values(ascending=False)"
   ]
  },
  {
   "cell_type": "code",
   "execution_count": 6,
   "id": "2cfaceb3",
   "metadata": {
    "colab": {
     "base_uri": "https://localhost:8080/"
    },
    "id": "2cfaceb3",
    "outputId": "1177c71d-5747-4c06-b7b9-689750b536cc"
   },
   "outputs": [
    {
     "name": "stdout",
     "output_type": "stream",
     "text": [
      "<class 'pandas.core.frame.DataFrame'>\n",
      "RangeIndex: 1168 entries, 0 to 1167\n",
      "Data columns (total 81 columns):\n",
      " #   Column         Non-Null Count  Dtype  \n",
      "---  ------         --------------  -----  \n",
      " 0   Id             1168 non-null   int64  \n",
      " 1   MSSubClass     1168 non-null   int64  \n",
      " 2   MSZoning       1168 non-null   object \n",
      " 3   LotFrontage    959 non-null    float64\n",
      " 4   LotArea        1168 non-null   int64  \n",
      " 5   Street         1168 non-null   object \n",
      " 6   Alley          72 non-null     object \n",
      " 7   LotShape       1168 non-null   object \n",
      " 8   LandContour    1168 non-null   object \n",
      " 9   Utilities      1168 non-null   object \n",
      " 10  LotConfig      1168 non-null   object \n",
      " 11  LandSlope      1168 non-null   object \n",
      " 12  Neighborhood   1168 non-null   object \n",
      " 13  Condition1     1168 non-null   object \n",
      " 14  Condition2     1168 non-null   object \n",
      " 15  BldgType       1168 non-null   object \n",
      " 16  HouseStyle     1168 non-null   object \n",
      " 17  OverallQual    1168 non-null   int64  \n",
      " 18  OverallCond    1168 non-null   int64  \n",
      " 19  YearBuilt      1168 non-null   int64  \n",
      " 20  YearRemodAdd   1168 non-null   int64  \n",
      " 21  RoofStyle      1168 non-null   object \n",
      " 22  RoofMatl       1168 non-null   object \n",
      " 23  Exterior1st    1168 non-null   object \n",
      " 24  Exterior2nd    1168 non-null   object \n",
      " 25  MasVnrType     1161 non-null   object \n",
      " 26  MasVnrArea     1161 non-null   float64\n",
      " 27  ExterQual      1168 non-null   object \n",
      " 28  ExterCond      1168 non-null   object \n",
      " 29  Foundation     1168 non-null   object \n",
      " 30  BsmtQual       1138 non-null   object \n",
      " 31  BsmtCond       1138 non-null   object \n",
      " 32  BsmtExposure   1137 non-null   object \n",
      " 33  BsmtFinType1   1138 non-null   object \n",
      " 34  BsmtFinSF1     1168 non-null   int64  \n",
      " 35  BsmtFinType2   1137 non-null   object \n",
      " 36  BsmtFinSF2     1168 non-null   int64  \n",
      " 37  BsmtUnfSF      1168 non-null   int64  \n",
      " 38  TotalBsmtSF    1168 non-null   int64  \n",
      " 39  Heating        1168 non-null   object \n",
      " 40  HeatingQC      1168 non-null   object \n",
      " 41  CentralAir     1168 non-null   object \n",
      " 42  Electrical     1167 non-null   object \n",
      " 43  1stFlrSF       1168 non-null   int64  \n",
      " 44  2ndFlrSF       1168 non-null   int64  \n",
      " 45  LowQualFinSF   1168 non-null   int64  \n",
      " 46  GrLivArea      1168 non-null   int64  \n",
      " 47  BsmtFullBath   1168 non-null   int64  \n",
      " 48  BsmtHalfBath   1168 non-null   int64  \n",
      " 49  FullBath       1168 non-null   int64  \n",
      " 50  HalfBath       1168 non-null   int64  \n",
      " 51  BedroomAbvGr   1168 non-null   int64  \n",
      " 52  KitchenAbvGr   1168 non-null   int64  \n",
      " 53  KitchenQual    1168 non-null   object \n",
      " 54  TotRmsAbvGrd   1168 non-null   int64  \n",
      " 55  Functional     1168 non-null   object \n",
      " 56  Fireplaces     1168 non-null   int64  \n",
      " 57  FireplaceQu    600 non-null    object \n",
      " 58  GarageType     1104 non-null   object \n",
      " 59  GarageYrBlt    1104 non-null   float64\n",
      " 60  GarageFinish   1104 non-null   object \n",
      " 61  GarageCars     1168 non-null   int64  \n",
      " 62  GarageArea     1168 non-null   int64  \n",
      " 63  GarageQual     1104 non-null   object \n",
      " 64  GarageCond     1104 non-null   object \n",
      " 65  PavedDrive     1168 non-null   object \n",
      " 66  WoodDeckSF     1168 non-null   int64  \n",
      " 67  OpenPorchSF    1168 non-null   int64  \n",
      " 68  EnclosedPorch  1168 non-null   int64  \n",
      " 69  3SsnPorch      1168 non-null   int64  \n",
      " 70  ScreenPorch    1168 non-null   int64  \n",
      " 71  PoolArea       1168 non-null   int64  \n",
      " 72  PoolQC         4 non-null      object \n",
      " 73  Fence          234 non-null    object \n",
      " 74  MiscFeature    46 non-null     object \n",
      " 75  MiscVal        1168 non-null   int64  \n",
      " 76  MoSold         1168 non-null   int64  \n",
      " 77  YrSold         1168 non-null   int64  \n",
      " 78  SaleType       1168 non-null   object \n",
      " 79  SaleCondition  1168 non-null   object \n",
      " 80  SalePrice      1168 non-null   int64  \n",
      "dtypes: float64(3), int64(35), object(43)\n",
      "memory usage: 739.2+ KB\n"
     ]
    }
   ],
   "source": [
    "df.info()"
   ]
  },
  {
   "cell_type": "code",
   "execution_count": 7,
   "id": "df9a442f",
   "metadata": {
    "colab": {
     "base_uri": "https://localhost:8080/",
     "height": 284
    },
    "id": "df9a442f",
    "outputId": "ade128c3-632d-44d6-dd64-218902e5aa7f"
   },
   "outputs": [
    {
     "data": {
      "text/plain": [
       "<AxesSubplot:>"
      ]
     },
     "execution_count": 7,
     "metadata": {},
     "output_type": "execute_result"
    },
    {
     "data": {
      "image/png": "[encoded data removed]",
      "text/plain": [
       "<Figure size 432x288 with 1 Axes>"
      ]
     },
     "metadata": {
      "needs_background": "light"
     },
     "output_type": "display_data"
    }
   ],
   "source": [
    "df[\"LotFrontage\"].plot(kind=\"box\")"
   ]
  },
  {
   "cell_type": "code",
   "execution_count": 8,
   "id": "YIKHxBOr6fkn",
   "metadata": {
    "colab": {
     "base_uri": "https://localhost:8080/",
     "height": 424
    },
    "id": "YIKHxBOr6fkn",
    "outputId": "8ce075e4-589d-4e35-a7fa-c7aca1b603a7"
   },
   "outputs": [
    {
     "data": {
      "text/html": [
       "<div>\n",
       "<style scoped>\n",
       "    .dataframe tbody tr th:only-of-type {\n",
       "        vertical-align: middle;\n",
       "    }\n",
       "\n",
       "    .dataframe tbody tr th {\n",
       "        vertical-align: top;\n",
       "    }\n",
       "\n",
       "    .dataframe thead th {\n",
       "        text-align: right;\n",
       "    }\n",
       "</style>\n",
       "<table border=\"1\" class=\"dataframe\">\n",
       "  <thead>\n",
       "    <tr style=\"text-align: right;\">\n",
       "      <th></th>\n",
       "      <th>PoolQC</th>\n",
       "      <th>MiscFeature</th>\n",
       "      <th>Alley</th>\n",
       "      <th>Fence</th>\n",
       "      <th>FireplaceQu</th>\n",
       "    </tr>\n",
       "  </thead>\n",
       "  <tbody>\n",
       "    <tr>\n",
       "      <th>0</th>\n",
       "      <td>NaN</td>\n",
       "      <td>NaN</td>\n",
       "      <td>NaN</td>\n",
       "      <td>NaN</td>\n",
       "      <td>Gd</td>\n",
       "    </tr>\n",
       "    <tr>\n",
       "      <th>1</th>\n",
       "      <td>NaN</td>\n",
       "      <td>NaN</td>\n",
       "      <td>NaN</td>\n",
       "      <td>NaN</td>\n",
       "      <td>Gd</td>\n",
       "    </tr>\n",
       "    <tr>\n",
       "      <th>2</th>\n",
       "      <td>NaN</td>\n",
       "      <td>NaN</td>\n",
       "      <td>NaN</td>\n",
       "      <td>NaN</td>\n",
       "      <td>NaN</td>\n",
       "    </tr>\n",
       "    <tr>\n",
       "      <th>3</th>\n",
       "      <td>NaN</td>\n",
       "      <td>NaN</td>\n",
       "      <td>NaN</td>\n",
       "      <td>MnPrv</td>\n",
       "      <td>NaN</td>\n",
       "    </tr>\n",
       "    <tr>\n",
       "      <th>4</th>\n",
       "      <td>NaN</td>\n",
       "      <td>NaN</td>\n",
       "      <td>NaN</td>\n",
       "      <td>NaN</td>\n",
       "      <td>Ex</td>\n",
       "    </tr>\n",
       "    <tr>\n",
       "      <th>...</th>\n",
       "      <td>...</td>\n",
       "      <td>...</td>\n",
       "      <td>...</td>\n",
       "      <td>...</td>\n",
       "      <td>...</td>\n",
       "    </tr>\n",
       "    <tr>\n",
       "      <th>1163</th>\n",
       "      <td>NaN</td>\n",
       "      <td>NaN</td>\n",
       "      <td>NaN</td>\n",
       "      <td>NaN</td>\n",
       "      <td>NaN</td>\n",
       "    </tr>\n",
       "    <tr>\n",
       "      <th>1164</th>\n",
       "      <td>NaN</td>\n",
       "      <td>NaN</td>\n",
       "      <td>NaN</td>\n",
       "      <td>MnPrv</td>\n",
       "      <td>NaN</td>\n",
       "    </tr>\n",
       "    <tr>\n",
       "      <th>1165</th>\n",
       "      <td>NaN</td>\n",
       "      <td>NaN</td>\n",
       "      <td>NaN</td>\n",
       "      <td>NaN</td>\n",
       "      <td>NaN</td>\n",
       "    </tr>\n",
       "    <tr>\n",
       "      <th>1166</th>\n",
       "      <td>NaN</td>\n",
       "      <td>NaN</td>\n",
       "      <td>NaN</td>\n",
       "      <td>NaN</td>\n",
       "      <td>Gd</td>\n",
       "    </tr>\n",
       "    <tr>\n",
       "      <th>1167</th>\n",
       "      <td>NaN</td>\n",
       "      <td>NaN</td>\n",
       "      <td>NaN</td>\n",
       "      <td>NaN</td>\n",
       "      <td>Gd</td>\n",
       "    </tr>\n",
       "  </tbody>\n",
       "</table>\n",
       "<p>1168 rows × 5 columns</p>\n",
       "</div>"
      ],
      "text/plain": [
       "     PoolQC MiscFeature Alley  Fence FireplaceQu\n",
       "0       NaN         NaN   NaN    NaN          Gd\n",
       "1       NaN         NaN   NaN    NaN          Gd\n",
       "2       NaN         NaN   NaN    NaN         NaN\n",
       "3       NaN         NaN   NaN  MnPrv         NaN\n",
       "4       NaN         NaN   NaN    NaN          Ex\n",
       "...     ...         ...   ...    ...         ...\n",
       "1163    NaN         NaN   NaN    NaN         NaN\n",
       "1164    NaN         NaN   NaN  MnPrv         NaN\n",
       "1165    NaN         NaN   NaN    NaN         NaN\n",
       "1166    NaN         NaN   NaN    NaN          Gd\n",
       "1167    NaN         NaN   NaN    NaN          Gd\n",
       "\n",
       "[1168 rows x 5 columns]"
      ]
     },
     "execution_count": 8,
     "metadata": {},
     "output_type": "execute_result"
    }
   ],
   "source": [
    "df[[\"PoolQC\", \"MiscFeature\", \"Alley\", \"Fence\", \"FireplaceQu\"]]"
   ]
  },
  {
   "cell_type": "code",
   "execution_count": 9,
   "id": "GoTpcsCB6fnX",
   "metadata": {
    "id": "GoTpcsCB6fnX"
   },
   "outputs": [],
   "source": [
    "df = df.drop([\"Id\", \"PoolQC\", \"MiscFeature\", \"Alley\", \"Fence\", \"FireplaceQu\"], axis=1)"
   ]
  },
  {
   "cell_type": "code",
   "execution_count": 10,
   "id": "2ocyUMPc6frv",
   "metadata": {
    "colab": {
     "base_uri": "https://localhost:8080/"
    },
    "id": "2ocyUMPc6frv",
    "outputId": "3a72f6c7-ceeb-48a5-e3a8-dae547fe67da"
   },
   "outputs": [
    {
     "data": {
      "text/plain": [
       "LotFrontage     209\n",
       "GarageType       64\n",
       "GarageYrBlt      64\n",
       "GarageFinish     64\n",
       "GarageQual       64\n",
       "               ... \n",
       "BsmtUnfSF         0\n",
       "TotalBsmtSF       0\n",
       "MSZoning          0\n",
       "HeatingQC         0\n",
       "SalePrice         0\n",
       "Length: 75, dtype: int64"
      ]
     },
     "execution_count": 10,
     "metadata": {},
     "output_type": "execute_result"
    }
   ],
   "source": [
    "df.isnull().sum().sort_values(ascending=False)"
   ]
  },
  {
   "cell_type": "code",
   "execution_count": 11,
   "id": "a104a19a",
   "metadata": {
    "colab": {
     "base_uri": "https://localhost:8080/"
    },
    "id": "a104a19a",
    "outputId": "eaee74dd-168a-4ba0-c24f-9a6edf0c520b"
   },
   "outputs": [
    {
     "data": {
      "text/plain": [
       "count    959.000000\n",
       "mean      69.424400\n",
       "std       21.703984\n",
       "min       21.000000\n",
       "25%       60.000000\n",
       "50%       70.000000\n",
       "75%       80.000000\n",
       "max      174.000000\n",
       "Name: LotFrontage, dtype: float64"
      ]
     },
     "execution_count": 11,
     "metadata": {},
     "output_type": "execute_result"
    }
   ],
   "source": [
    "df[\"LotFrontage\"].describe()"
   ]
  },
  {
   "cell_type": "code",
   "execution_count": 12,
   "id": "bd69ff8d",
   "metadata": {
    "colab": {
     "base_uri": "https://localhost:8080/"
    },
    "id": "bd69ff8d",
    "outputId": "dd099c93-6069-49ec-b9da-693e4c4f6229"
   },
   "outputs": [
    {
     "data": {
      "text/plain": [
       "NaN      209\n",
       "60.0     117\n",
       "70.0      62\n",
       "80.0      52\n",
       "75.0      44\n",
       "        ... \n",
       "150.0      1\n",
       "152.0      1\n",
       "140.0      1\n",
       "38.0       1\n",
       "138.0      1\n",
       "Name: LotFrontage, Length: 101, dtype: int64"
      ]
     },
     "execution_count": 12,
     "metadata": {},
     "output_type": "execute_result"
    }
   ],
   "source": [
    "df[\"LotFrontage\"].value_counts(dropna=False)"
   ]
  },
  {
   "cell_type": "code",
   "execution_count": 13,
   "id": "32e11145",
   "metadata": {
    "id": "32e11145"
   },
   "outputs": [],
   "source": [
    "df.loc[df[df[\"LotFrontage\"].isnull()].index, \"LotFrontage\"] = df[\"LotFrontage\"].median()"
   ]
  },
  {
   "cell_type": "code",
   "execution_count": 14,
   "id": "_NvmY_2x7fJ0",
   "metadata": {
    "colab": {
     "base_uri": "https://localhost:8080/"
    },
    "id": "_NvmY_2x7fJ0",
    "outputId": "03755669-ddb6-4ab1-f8fe-d8f718ab6af3"
   },
   "outputs": [
    {
     "data": {
      "text/plain": [
       "array(['Attchd', 'BuiltIn', 'Detchd', nan, 'Basment', 'CarPort', '2Types'],\n",
       "      dtype=object)"
      ]
     },
     "execution_count": 14,
     "metadata": {},
     "output_type": "execute_result"
    }
   ],
   "source": [
    "df[\"GarageType\"].unique()"
   ]
  },
  {
   "cell_type": "code",
   "execution_count": 15,
   "id": "CqTZC6aP7fMo",
   "metadata": {
    "colab": {
     "base_uri": "https://localhost:8080/",
     "height": 269
    },
    "id": "CqTZC6aP7fMo",
    "outputId": "aa2d9971-e2e7-48f2-a7fc-aaf53f8c1e22"
   },
   "outputs": [
    {
     "data": {
      "text/html": [
       "<div>\n",
       "<style scoped>\n",
       "    .dataframe tbody tr th:only-of-type {\n",
       "        vertical-align: middle;\n",
       "    }\n",
       "\n",
       "    .dataframe tbody tr th {\n",
       "        vertical-align: top;\n",
       "    }\n",
       "\n",
       "    .dataframe thead th {\n",
       "        text-align: right;\n",
       "    }\n",
       "</style>\n",
       "<table border=\"1\" class=\"dataframe\">\n",
       "  <thead>\n",
       "    <tr style=\"text-align: right;\">\n",
       "      <th></th>\n",
       "      <th>count</th>\n",
       "      <th>mean</th>\n",
       "      <th>std</th>\n",
       "      <th>min</th>\n",
       "      <th>25%</th>\n",
       "      <th>50%</th>\n",
       "      <th>75%</th>\n",
       "      <th>max</th>\n",
       "    </tr>\n",
       "    <tr>\n",
       "      <th>GarageType</th>\n",
       "      <th></th>\n",
       "      <th></th>\n",
       "      <th></th>\n",
       "      <th></th>\n",
       "      <th></th>\n",
       "      <th></th>\n",
       "      <th></th>\n",
       "      <th></th>\n",
       "    </tr>\n",
       "  </thead>\n",
       "  <tbody>\n",
       "    <tr>\n",
       "      <th>2Types</th>\n",
       "      <td>4.0</td>\n",
       "      <td>144000.000000</td>\n",
       "      <td>39115.214431</td>\n",
       "      <td>87000.0</td>\n",
       "      <td>134250.0</td>\n",
       "      <td>159000.0</td>\n",
       "      <td>168750.0</td>\n",
       "      <td>171000.0</td>\n",
       "    </tr>\n",
       "    <tr>\n",
       "      <th>Attchd</th>\n",
       "      <td>702.0</td>\n",
       "      <td>202254.209402</td>\n",
       "      <td>80110.961816</td>\n",
       "      <td>60000.0</td>\n",
       "      <td>148625.0</td>\n",
       "      <td>183750.0</td>\n",
       "      <td>232450.0</td>\n",
       "      <td>755000.0</td>\n",
       "    </tr>\n",
       "    <tr>\n",
       "      <th>Basment</th>\n",
       "      <td>16.0</td>\n",
       "      <td>157740.187500</td>\n",
       "      <td>66752.338540</td>\n",
       "      <td>55993.0</td>\n",
       "      <td>133062.5</td>\n",
       "      <td>146500.0</td>\n",
       "      <td>172500.0</td>\n",
       "      <td>359100.0</td>\n",
       "    </tr>\n",
       "    <tr>\n",
       "      <th>BuiltIn</th>\n",
       "      <td>71.0</td>\n",
       "      <td>259924.338028</td>\n",
       "      <td>109873.333696</td>\n",
       "      <td>91000.0</td>\n",
       "      <td>184425.0</td>\n",
       "      <td>225000.0</td>\n",
       "      <td>312800.0</td>\n",
       "      <td>582933.0</td>\n",
       "    </tr>\n",
       "    <tr>\n",
       "      <th>CarPort</th>\n",
       "      <td>9.0</td>\n",
       "      <td>109962.111111</td>\n",
       "      <td>24638.183681</td>\n",
       "      <td>82000.0</td>\n",
       "      <td>95000.0</td>\n",
       "      <td>108000.0</td>\n",
       "      <td>110000.0</td>\n",
       "      <td>164900.0</td>\n",
       "    </tr>\n",
       "    <tr>\n",
       "      <th>Detchd</th>\n",
       "      <td>302.0</td>\n",
       "      <td>136035.844371</td>\n",
       "      <td>43405.942037</td>\n",
       "      <td>35311.0</td>\n",
       "      <td>110125.0</td>\n",
       "      <td>130000.0</td>\n",
       "      <td>151000.0</td>\n",
       "      <td>475000.0</td>\n",
       "    </tr>\n",
       "  </tbody>\n",
       "</table>\n",
       "</div>"
      ],
      "text/plain": [
       "            count           mean            std      min       25%       50%  \\\n",
       "GarageType                                                                     \n",
       "2Types        4.0  144000.000000   39115.214431  87000.0  134250.0  159000.0   \n",
       "Attchd      702.0  202254.209402   80110.961816  60000.0  148625.0  183750.0   \n",
       "Basment      16.0  157740.187500   66752.338540  55993.0  133062.5  146500.0   \n",
       "BuiltIn      71.0  259924.338028  109873.333696  91000.0  184425.0  225000.0   \n",
       "CarPort       9.0  109962.111111   24638.183681  82000.0   95000.0  108000.0   \n",
       "Detchd      302.0  136035.844371   43405.942037  35311.0  110125.0  130000.0   \n",
       "\n",
       "                 75%       max  \n",
       "GarageType                      \n",
       "2Types      168750.0  171000.0  \n",
       "Attchd      232450.0  755000.0  \n",
       "Basment     172500.0  359100.0  \n",
       "BuiltIn     312800.0  582933.0  \n",
       "CarPort     110000.0  164900.0  \n",
       "Detchd      151000.0  475000.0  "
      ]
     },
     "execution_count": 15,
     "metadata": {},
     "output_type": "execute_result"
    }
   ],
   "source": [
    "df.groupby(\"GarageType\")[\"SalePrice\"].describe()"
   ]
  },
  {
   "cell_type": "code",
   "execution_count": 16,
   "id": "MKhWcCSG7fQG",
   "metadata": {
    "id": "MKhWcCSG7fQG"
   },
   "outputs": [],
   "source": [
    "df[\"GarageType\"].fillna(df[\"GarageType\"].value_counts().idxmax(), inplace=True)"
   ]
  },
  {
   "cell_type": "code",
   "execution_count": 17,
   "id": "tafVU1vy8I0w",
   "metadata": {
    "colab": {
     "base_uri": "https://localhost:8080/"
    },
    "id": "tafVU1vy8I0w",
    "outputId": "a9880c89-6a42-49af-f047-e260dbed4e56"
   },
   "outputs": [
    {
     "data": {
      "text/plain": [
       "Attchd     766\n",
       "Detchd     302\n",
       "BuiltIn     71\n",
       "Basment     16\n",
       "CarPort      9\n",
       "2Types       4\n",
       "Name: GarageType, dtype: int64"
      ]
     },
     "execution_count": 17,
     "metadata": {},
     "output_type": "execute_result"
    }
   ],
   "source": [
    "df[\"GarageType\"].value_counts(dropna=False)"
   ]
  },
  {
   "cell_type": "code",
   "execution_count": 18,
   "id": "0A9npnh08I3S",
   "metadata": {
    "colab": {
     "base_uri": "https://localhost:8080/"
    },
    "id": "0A9npnh08I3S",
    "outputId": "3c0f24fd-6407-4529-9957-d94518bfeea4"
   },
   "outputs": [
    {
     "data": {
      "text/plain": [
       "count    1104.000000\n",
       "mean     1978.446558\n",
       "std        24.473548\n",
       "min      1900.000000\n",
       "25%      1961.000000\n",
       "50%      1979.000000\n",
       "75%      2002.000000\n",
       "max      2010.000000\n",
       "Name: GarageYrBlt, dtype: float64"
      ]
     },
     "execution_count": 18,
     "metadata": {},
     "output_type": "execute_result"
    }
   ],
   "source": [
    "df[\"GarageYrBlt\"].describe()"
   ]
  },
  {
   "cell_type": "code",
   "execution_count": 19,
   "id": "daoFnKch8I5p",
   "metadata": {
    "colab": {
     "base_uri": "https://localhost:8080/",
     "height": 282
    },
    "id": "daoFnKch8I5p",
    "outputId": "43609dc7-51dd-44c7-81b0-c49776fd3eb0"
   },
   "outputs": [
    {
     "data": {
      "text/plain": [
       "<matplotlib.collections.PathCollection at 0x230598f5ac0>"
      ]
     },
     "execution_count": 19,
     "metadata": {},
     "output_type": "execute_result"
    },
    {
     "data": {
      "image/png": "[encoded data removed]",
      "text/plain": [
       "<Figure size 432x288 with 1 Axes>"
      ]
     },
     "metadata": {
      "needs_background": "light"
     },
     "output_type": "display_data"
    }
   ],
   "source": [
    "plt.scatter(df[\"SalePrice\"], df[\"GarageYrBlt\"])"
   ]
  },
  {
   "cell_type": "code",
   "execution_count": 20,
   "id": "MI0KQdhA9NFz",
   "metadata": {
    "colab": {
     "base_uri": "https://localhost:8080/",
     "height": 282
    },
    "id": "MI0KQdhA9NFz",
    "outputId": "b0207357-45c8-4bcc-dda0-e4bb7b1cdb2d"
   },
   "outputs": [
    {
     "data": {
      "text/plain": [
       "<AxesSubplot:ylabel='Frequency'>"
      ]
     },
     "execution_count": 20,
     "metadata": {},
     "output_type": "execute_result"
    },
    {
     "data": {
      "image/png": "[encoded data removed]",
      "text/plain": [
       "<Figure size 432x288 with 1 Axes>"
      ]
     },
     "metadata": {
      "needs_background": "light"
     },
     "output_type": "display_data"
    }
   ],
   "source": [
    "df[\"GarageYrBlt\"].plot(kind=\"hist\")"
   ]
  },
  {
   "cell_type": "code",
   "execution_count": 21,
   "id": "FKuaNtkX9NIl",
   "metadata": {
    "colab": {
     "base_uri": "https://localhost:8080/"
    },
    "id": "FKuaNtkX9NIl",
    "outputId": "95eb07bf-3e89-4dab-b88b-d292ea2c0f2b"
   },
   "outputs": [
    {
     "data": {
      "text/plain": [
       "2005.0    49\n",
       "2006.0    47\n",
       "2007.0    42\n",
       "2004.0    42\n",
       "2003.0    40\n",
       "          ..\n",
       "1900.0     1\n",
       "1934.0     1\n",
       "1927.0     1\n",
       "1938.0     1\n",
       "1947.0     1\n",
       "Name: GarageYrBlt, Length: 96, dtype: int64"
      ]
     },
     "execution_count": 21,
     "metadata": {},
     "output_type": "execute_result"
    }
   ],
   "source": [
    "df[\"GarageYrBlt\"].value_counts()"
   ]
  },
  {
   "cell_type": "code",
   "execution_count": 22,
   "id": "B-v16R8s9NLT",
   "metadata": {
    "colab": {
     "base_uri": "https://localhost:8080/",
     "height": 282
    },
    "id": "B-v16R8s9NLT",
    "outputId": "a76953c3-ad47-4d64-ad04-213c61199dba"
   },
   "outputs": [
    {
     "data": {
      "text/plain": [
       "<AxesSubplot:>"
      ]
     },
     "execution_count": 22,
     "metadata": {},
     "output_type": "execute_result"
    },
    {
     "data": {
      "image/png": "[encoded data removed]",
      "text/plain": [
       "<Figure size 432x288 with 1 Axes>"
      ]
     },
     "metadata": {
      "needs_background": "light"
     },
     "output_type": "display_data"
    }
   ],
   "source": [
    "df[\"GarageYrBlt\"].plot(kind=\"box\")"
   ]
  },
  {
   "cell_type": "code",
   "execution_count": 23,
   "id": "299K0Dgs9NNi",
   "metadata": {
    "colab": {
     "base_uri": "https://localhost:8080/"
    },
    "id": "299K0Dgs9NNi",
    "outputId": "9cc743c8-affe-405a-ff9f-edc9466f6cf1"
   },
   "outputs": [
    {
     "data": {
      "text/plain": [
       "['1stFlrSF',\n",
       " '2ndFlrSF',\n",
       " '3SsnPorch',\n",
       " 'BedroomAbvGr',\n",
       " 'BldgType',\n",
       " 'BsmtCond',\n",
       " 'BsmtExposure',\n",
       " 'BsmtFinSF1',\n",
       " 'BsmtFinSF2',\n",
       " 'BsmtFinType1',\n",
       " 'BsmtFinType2',\n",
       " 'BsmtFullBath',\n",
       " 'BsmtHalfBath',\n",
       " 'BsmtQual',\n",
       " 'BsmtUnfSF',\n",
       " 'CentralAir',\n",
       " 'Condition1',\n",
       " 'Condition2',\n",
       " 'Electrical',\n",
       " 'EnclosedPorch',\n",
       " 'ExterCond',\n",
       " 'ExterQual',\n",
       " 'Exterior1st',\n",
       " 'Exterior2nd',\n",
       " 'Fireplaces',\n",
       " 'Foundation',\n",
       " 'FullBath',\n",
       " 'Functional',\n",
       " 'GarageArea',\n",
       " 'GarageCars',\n",
       " 'GarageCond',\n",
       " 'GarageFinish',\n",
       " 'GarageQual',\n",
       " 'GarageType',\n",
       " 'GarageYrBlt',\n",
       " 'GrLivArea',\n",
       " 'HalfBath',\n",
       " 'Heating',\n",
       " 'HeatingQC',\n",
       " 'HouseStyle',\n",
       " 'KitchenAbvGr',\n",
       " 'KitchenQual',\n",
       " 'LandContour',\n",
       " 'LandSlope',\n",
       " 'LotArea',\n",
       " 'LotConfig',\n",
       " 'LotFrontage',\n",
       " 'LotShape',\n",
       " 'LowQualFinSF',\n",
       " 'MSSubClass',\n",
       " 'MSZoning',\n",
       " 'MasVnrArea',\n",
       " 'MasVnrType',\n",
       " 'MiscVal',\n",
       " 'MoSold',\n",
       " 'Neighborhood',\n",
       " 'OpenPorchSF',\n",
       " 'OverallCond',\n",
       " 'OverallQual',\n",
       " 'PavedDrive',\n",
       " 'PoolArea',\n",
       " 'RoofMatl',\n",
       " 'RoofStyle',\n",
       " 'SaleCondition',\n",
       " 'SalePrice',\n",
       " 'SaleType',\n",
       " 'ScreenPorch',\n",
       " 'Street',\n",
       " 'TotRmsAbvGrd',\n",
       " 'TotalBsmtSF',\n",
       " 'Utilities',\n",
       " 'WoodDeckSF',\n",
       " 'YearBuilt',\n",
       " 'YearRemodAdd',\n",
       " 'YrSold']"
      ]
     },
     "execution_count": 23,
     "metadata": {},
     "output_type": "execute_result"
    }
   ],
   "source": [
    "sorted(df.columns.to_list())"
   ]
  },
  {
   "cell_type": "code",
   "execution_count": 24,
   "id": "Vet-PvkOCwDq",
   "metadata": {
    "colab": {
     "base_uri": "https://localhost:8080/",
     "height": 385
    },
    "id": "Vet-PvkOCwDq",
    "outputId": "2e29c8e8-eb19-49ee-a290-cb7a036b629e"
   },
   "outputs": [
    {
     "data": {
      "text/plain": [
       "<AxesSubplot:>"
      ]
     },
     "execution_count": 24,
     "metadata": {},
     "output_type": "execute_result"
    },
    {
     "data": {
      "image/png": "[encoded data removed]",
      "text/plain": [
       "<Figure size 432x288 with 2 Axes>"
      ]
     },
     "metadata": {
      "needs_background": "light"
     },
     "output_type": "display_data"
    }
   ],
   "source": [
    "sns.heatmap(pd.get_dummies(df[['GarageArea',\n",
    " 'GarageCars',\n",
    " 'GarageCond',\n",
    " 'GarageFinish',\n",
    " 'GarageQual',\n",
    " 'GarageType',\n",
    " 'GarageYrBlt',\"SalePrice\"]], drop_first=True).corr())"
   ]
  },
  {
   "cell_type": "code",
   "execution_count": 25,
   "id": "pbwOok0fCwGq",
   "metadata": {
    "colab": {
     "base_uri": "https://localhost:8080/",
     "height": 519
    },
    "id": "pbwOok0fCwGq",
    "outputId": "8eacec70-8219-4851-e9c1-bfc28396a1f2"
   },
   "outputs": [
    {
     "data": {
      "text/plain": [
       "<AxesSubplot:>"
      ]
     },
     "execution_count": 25,
     "metadata": {},
     "output_type": "execute_result"
    },
    {
     "data": {
      "image/png": "[encoded data removed]",
      "text/plain": [
       "<Figure size 1152x576 with 2 Axes>"
      ]
     },
     "metadata": {
      "needs_background": "light"
     },
     "output_type": "display_data"
    }
   ],
   "source": [
    "plt.figure(figsize=(16,8))\n",
    "sns.heatmap(df.isnull().T,  cmap = 'viridis')"
   ]
  },
  {
   "cell_type": "code",
   "execution_count": 26,
   "id": "cORSwDwNCwJk",
   "metadata": {
    "id": "cORSwDwNCwJk"
   },
   "outputs": [],
   "source": [
    "df[\"GarageYrBlt\"] = df[\"GarageYrBlt\"].fillna(df[\"GarageYrBlt\"].quantile(.75)) # right skewed olduğu için "
   ]
  },
  {
   "cell_type": "code",
   "execution_count": 27,
   "id": "he6xDm1Y9NP0",
   "metadata": {
    "colab": {
     "base_uri": "https://localhost:8080/"
    },
    "id": "he6xDm1Y9NP0",
    "outputId": "046997a6-1075-4e36-b6bf-b979a8603460"
   },
   "outputs": [
    {
     "data": {
      "text/plain": [
       "MSSubClass       0\n",
       "KitchenQual      0\n",
       "KitchenAbvGr     0\n",
       "BedroomAbvGr     0\n",
       "HalfBath         0\n",
       "                ..\n",
       "BsmtExposure    31\n",
       "BsmtFinType2    31\n",
       "GarageQual      64\n",
       "GarageCond      64\n",
       "GarageFinish    64\n",
       "Length: 75, dtype: int64"
      ]
     },
     "execution_count": 27,
     "metadata": {},
     "output_type": "execute_result"
    }
   ],
   "source": [
    "df.isnull().sum().sort_values()"
   ]
  },
  {
   "cell_type": "code",
   "execution_count": 28,
   "id": "caUDrWt3F0Wq",
   "metadata": {
    "colab": {
     "base_uri": "https://localhost:8080/"
    },
    "id": "caUDrWt3F0Wq",
    "outputId": "4cdcc867-b27e-4a4c-ae36-de00c9e33b87"
   },
   "outputs": [
    {
     "data": {
      "text/plain": [
       "array(['RFn', 'Fin', 'Unf', nan], dtype=object)"
      ]
     },
     "execution_count": 28,
     "metadata": {},
     "output_type": "execute_result"
    }
   ],
   "source": [
    "df[\"GarageFinish\"].unique()"
   ]
  },
  {
   "cell_type": "code",
   "execution_count": 29,
   "id": "bhSsKf4fF0Zi",
   "metadata": {
    "colab": {
     "base_uri": "https://localhost:8080/"
    },
    "id": "bhSsKf4fF0Zi",
    "outputId": "63bc8830-9ed4-418f-94e4-64fdd1cf7ef4"
   },
   "outputs": [
    {
     "data": {
      "text/plain": [
       "Unf    484\n",
       "RFn    338\n",
       "Fin    282\n",
       "NaN     64\n",
       "Name: GarageFinish, dtype: int64"
      ]
     },
     "execution_count": 29,
     "metadata": {},
     "output_type": "execute_result"
    }
   ],
   "source": [
    "df[\"GarageFinish\"].value_counts(dropna=False)"
   ]
  },
  {
   "cell_type": "code",
   "execution_count": 30,
   "id": "BnU-3Ch-F0cf",
   "metadata": {
    "colab": {
     "base_uri": "https://localhost:8080/"
    },
    "id": "BnU-3Ch-F0cf",
    "outputId": "5fab9b77-2a82-4087-a4bc-05e4a6721673"
   },
   "outputs": [
    {
     "data": {
      "text/plain": [
       "TA     1061\n",
       "NaN      64\n",
       "Fa       29\n",
       "Gd        7\n",
       "Po        7\n",
       "Name: GarageCond, dtype: int64"
      ]
     },
     "execution_count": 30,
     "metadata": {},
     "output_type": "execute_result"
    }
   ],
   "source": [
    "df[\"GarageCond\"].value_counts(dropna=False)"
   ]
  },
  {
   "cell_type": "code",
   "execution_count": 31,
   "id": "I9y6PNCYF0fF",
   "metadata": {
    "colab": {
     "base_uri": "https://localhost:8080/"
    },
    "id": "I9y6PNCYF0fF",
    "outputId": "7f5401d2-fa08-4378-f44e-e897d109bdc2"
   },
   "outputs": [
    {
     "data": {
      "text/plain": [
       "TA     1044\n",
       "NaN      64\n",
       "Fa       43\n",
       "Gd       13\n",
       "Po        3\n",
       "Ex        1\n",
       "Name: GarageQual, dtype: int64"
      ]
     },
     "execution_count": 31,
     "metadata": {},
     "output_type": "execute_result"
    }
   ],
   "source": [
    "df[\"GarageQual\"].value_counts(dropna=False)"
   ]
  },
  {
   "cell_type": "code",
   "execution_count": 32,
   "id": "FnLpTjRCF0hv",
   "metadata": {
    "id": "FnLpTjRCF0hv"
   },
   "outputs": [],
   "source": [
    "liste = [\"GarageFinish\", \"GarageCond\", \"GarageQual\"]\n",
    "for i in liste:\n",
    "    df[i] = df[i].fillna(df[i].value_counts().idxmax())"
   ]
  },
  {
   "cell_type": "code",
   "execution_count": 33,
   "id": "cgTYjvnHF0kK",
   "metadata": {
    "colab": {
     "base_uri": "https://localhost:8080/"
    },
    "id": "cgTYjvnHF0kK",
    "outputId": "51ce0433-d6b5-4312-858d-c03b9717f0c4"
   },
   "outputs": [
    {
     "data": {
      "text/plain": [
       "MSSubClass       0\n",
       "Functional       0\n",
       "TotRmsAbvGrd     0\n",
       "KitchenQual      0\n",
       "KitchenAbvGr     0\n",
       "                ..\n",
       "BsmtCond        30\n",
       "BsmtFinType1    30\n",
       "BsmtQual        30\n",
       "BsmtExposure    31\n",
       "BsmtFinType2    31\n",
       "Length: 75, dtype: int64"
      ]
     },
     "execution_count": 33,
     "metadata": {},
     "output_type": "execute_result"
    }
   ],
   "source": [
    "df.isnull().sum().sort_values()"
   ]
  },
  {
   "cell_type": "code",
   "execution_count": 34,
   "id": "nomMt34VF0mo",
   "metadata": {
    "colab": {
     "base_uri": "https://localhost:8080/"
    },
    "id": "nomMt34VF0mo",
    "outputId": "531a9070-db57-4d27-bf32-2c46b1021de1"
   },
   "outputs": [
    {
     "data": {
      "text/plain": [
       "array(['Unf', 'Rec', nan, 'LwQ', 'BLQ', 'GLQ', 'ALQ'], dtype=object)"
      ]
     },
     "execution_count": 34,
     "metadata": {},
     "output_type": "execute_result"
    }
   ],
   "source": [
    "df[\"BsmtFinType2\"].unique()"
   ]
  },
  {
   "cell_type": "code",
   "execution_count": 35,
   "id": "SzCtyI2cuxw7",
   "metadata": {
    "colab": {
     "base_uri": "https://localhost:8080/"
    },
    "id": "SzCtyI2cuxw7",
    "outputId": "401f9427-44f2-4da7-b885-1c7fe6a8e08d"
   },
   "outputs": [
    {
     "data": {
      "text/plain": [
       "Unf    998\n",
       "Rec     48\n",
       "LwQ     41\n",
       "NaN     31\n",
       "BLQ     27\n",
       "ALQ     14\n",
       "GLQ      9\n",
       "Name: BsmtFinType2, dtype: int64"
      ]
     },
     "execution_count": 35,
     "metadata": {},
     "output_type": "execute_result"
    }
   ],
   "source": [
    "df[\"BsmtFinType2\"].value_counts(dropna=False)"
   ]
  },
  {
   "cell_type": "code",
   "execution_count": 36,
   "id": "vU72oKYfuxzf",
   "metadata": {
    "colab": {
     "base_uri": "https://localhost:8080/"
    },
    "id": "vU72oKYfuxzf",
    "outputId": "51a170cc-1254-4048-e9d3-37045e6e107a"
   },
   "outputs": [
    {
     "data": {
      "text/plain": [
       "No     752\n",
       "Av     178\n",
       "Gd     116\n",
       "Mn      91\n",
       "NaN     31\n",
       "Name: BsmtExposure, dtype: int64"
      ]
     },
     "execution_count": 36,
     "metadata": {},
     "output_type": "execute_result"
    }
   ],
   "source": [
    "df[\"BsmtExposure\"].value_counts(dropna=False)"
   ]
  },
  {
   "cell_type": "code",
   "execution_count": 37,
   "id": "JIM6nrfiux1d",
   "metadata": {
    "colab": {
     "base_uri": "https://localhost:8080/"
    },
    "id": "JIM6nrfiux1d",
    "outputId": "757b2997-aacf-437a-d2fa-02af2efb43a5"
   },
   "outputs": [
    {
     "data": {
      "text/plain": [
       "TA     522\n",
       "Gd     483\n",
       "Ex     103\n",
       "Fa      30\n",
       "NaN     30\n",
       "Name: BsmtQual, dtype: int64"
      ]
     },
     "execution_count": 37,
     "metadata": {},
     "output_type": "execute_result"
    }
   ],
   "source": [
    "df[\"BsmtQual\"].value_counts(dropna=False)"
   ]
  },
  {
   "cell_type": "code",
   "execution_count": 38,
   "id": "6gljdVxaux32",
   "metadata": {
    "colab": {
     "base_uri": "https://localhost:8080/"
    },
    "id": "6gljdVxaux32",
    "outputId": "bed6a8d4-64ec-456c-e2c4-7d4a244946d9"
   },
   "outputs": [
    {
     "data": {
      "text/plain": [
       "GLQ    335\n",
       "Unf    332\n",
       "ALQ    178\n",
       "BLQ    115\n",
       "Rec    112\n",
       "LwQ     66\n",
       "NaN     30\n",
       "Name: BsmtFinType1, dtype: int64"
      ]
     },
     "execution_count": 38,
     "metadata": {},
     "output_type": "execute_result"
    }
   ],
   "source": [
    "df[\"BsmtFinType1\"].value_counts(dropna=False)"
   ]
  },
  {
   "cell_type": "code",
   "execution_count": 39,
   "id": "3XYVvZQSva5h",
   "metadata": {
    "colab": {
     "base_uri": "https://localhost:8080/"
    },
    "id": "3XYVvZQSva5h",
    "outputId": "d464046b-12de-4fb1-f168-dcfa7efdfb1f"
   },
   "outputs": [
    {
     "data": {
      "text/plain": [
       "TA     1047\n",
       "Gd       53\n",
       "Fa       36\n",
       "NaN      30\n",
       "Po        2\n",
       "Name: BsmtCond, dtype: int64"
      ]
     },
     "execution_count": 39,
     "metadata": {},
     "output_type": "execute_result"
    }
   ],
   "source": [
    "df[\"BsmtCond\"].value_counts(dropna=False)"
   ]
  },
  {
   "cell_type": "code",
   "execution_count": 40,
   "id": "kWfxZYh9ux6I",
   "metadata": {
    "id": "kWfxZYh9ux6I"
   },
   "outputs": [],
   "source": [
    "for i in [\"BsmtFinType1\",\"BsmtQual\",\"BsmtExposure\",\"BsmtFinType2\",\"BsmtCond\"]:\n",
    "    df[i] = df[i].fillna(df[i].value_counts().idxmax())"
   ]
  },
  {
   "cell_type": "code",
   "execution_count": 41,
   "id": "gSTmmqTIux8a",
   "metadata": {
    "colab": {
     "base_uri": "https://localhost:8080/"
    },
    "id": "gSTmmqTIux8a",
    "outputId": "7b99610b-01e2-4c4d-d271-f70c3d8c10d0"
   },
   "outputs": [
    {
     "data": {
      "text/plain": [
       "MasVnrType      7\n",
       "MasVnrArea      7\n",
       "Electrical      1\n",
       "BedroomAbvGr    0\n",
       "Fireplaces      0\n",
       "               ..\n",
       "ExterCond       0\n",
       "ExterQual       0\n",
       "Exterior2nd     0\n",
       "Exterior1st     0\n",
       "SalePrice       0\n",
       "Length: 75, dtype: int64"
      ]
     },
     "execution_count": 41,
     "metadata": {},
     "output_type": "execute_result"
    }
   ],
   "source": [
    "df.isnull().sum().sort_values(ascending=False)"
   ]
  },
  {
   "cell_type": "code",
   "execution_count": 42,
   "id": "V37hs8Haux_W",
   "metadata": {
    "colab": {
     "base_uri": "https://localhost:8080/"
    },
    "id": "V37hs8Haux_W",
    "outputId": "9d276abe-e910-4c16-a822-9c65cb5ffd41"
   },
   "outputs": [
    {
     "data": {
      "text/plain": [
       "None       693\n",
       "BrkFace    346\n",
       "Stone      108\n",
       "BrkCmn      14\n",
       "NaN          7\n",
       "Name: MasVnrType, dtype: int64"
      ]
     },
     "execution_count": 42,
     "metadata": {},
     "output_type": "execute_result"
    }
   ],
   "source": [
    "df[\"MasVnrType\"].value_counts(dropna=False)"
   ]
  },
  {
   "cell_type": "code",
   "execution_count": 43,
   "id": "2e2yr5truyBR",
   "metadata": {
    "colab": {
     "base_uri": "https://localhost:8080/",
     "height": 296
    },
    "id": "2e2yr5truyBR",
    "outputId": "64337d87-fb89-42ba-c9b5-86558215d39c"
   },
   "outputs": [
    {
     "data": {
      "text/plain": [
       "<AxesSubplot:xlabel='MasVnrType', ylabel='SalePrice'>"
      ]
     },
     "execution_count": 43,
     "metadata": {},
     "output_type": "execute_result"
    },
    {
     "data": {
      "image/png": "[encoded data removed]",
      "text/plain": [
       "<Figure size 432x288 with 1 Axes>"
      ]
     },
     "metadata": {
      "needs_background": "light"
     },
     "output_type": "display_data"
    }
   ],
   "source": [
    "sns.barplot(x=df[\"MasVnrType\"], y=df['SalePrice'])"
   ]
  },
  {
   "cell_type": "code",
   "execution_count": 44,
   "id": "a6ca19ac",
   "metadata": {
    "colab": {
     "base_uri": "https://localhost:8080/",
     "height": 35
    },
    "id": "a6ca19ac",
    "outputId": "ad1c322e-409b-4798-939c-29f4a75d4249"
   },
   "outputs": [
    {
     "data": {
      "text/plain": [
       "'None'"
      ]
     },
     "execution_count": 44,
     "metadata": {},
     "output_type": "execute_result"
    }
   ],
   "source": [
    "df[\"MasVnrType\"].describe()[\"top\"]"
   ]
  },
  {
   "cell_type": "code",
   "execution_count": 45,
   "id": "fd354eb6",
   "metadata": {
    "id": "fd354eb6"
   },
   "outputs": [],
   "source": [
    "df.loc[df[df[\"MasVnrType\"].isnull()].index, \"MasVnrType\"] = df[\"MasVnrType\"].describe()[\"top\"]"
   ]
  },
  {
   "cell_type": "code",
   "execution_count": 46,
   "id": "0cfca40b",
   "metadata": {
    "colab": {
     "base_uri": "https://localhost:8080/"
    },
    "id": "0cfca40b",
    "outputId": "99a04fac-3742-43f8-dd51-dc524ae2218e",
    "scrolled": true
   },
   "outputs": [
    {
     "data": {
      "text/plain": [
       "count    1161.000000\n",
       "mean      103.794143\n",
       "std       182.240694\n",
       "min         0.000000\n",
       "25%         0.000000\n",
       "50%         0.000000\n",
       "75%       166.000000\n",
       "max      1600.000000\n",
       "Name: MasVnrArea, dtype: float64"
      ]
     },
     "execution_count": 46,
     "metadata": {},
     "output_type": "execute_result"
    }
   ],
   "source": [
    "df[\"MasVnrArea\"].describe()"
   ]
  },
  {
   "cell_type": "code",
   "execution_count": 47,
   "id": "ea5dca58",
   "metadata": {
    "colab": {
     "base_uri": "https://localhost:8080/",
     "height": 282
    },
    "id": "ea5dca58",
    "outputId": "165dab24-4135-4335-cb79-e12aa2971031"
   },
   "outputs": [
    {
     "data": {
      "text/plain": [
       "<AxesSubplot:ylabel='Frequency'>"
      ]
     },
     "execution_count": 47,
     "metadata": {},
     "output_type": "execute_result"
    },
    {
     "data": {
      "image/png": "[encoded data removed]",
      "text/plain": [
       "<Figure size 432x288 with 1 Axes>"
      ]
     },
     "metadata": {
      "needs_background": "light"
     },
     "output_type": "display_data"
    }
   ],
   "source": [
    "df[\"MasVnrArea\"].plot(kind=\"hist\")"
   ]
  },
  {
   "cell_type": "code",
   "execution_count": 48,
   "id": "rEYXTHdv4Z9G",
   "metadata": {
    "id": "rEYXTHdv4Z9G"
   },
   "outputs": [],
   "source": [
    "df[\"MasVnrArea\"] = df[\"MasVnrArea\"].fillna(df[\"MasVnrArea\"].mean())"
   ]
  },
  {
   "cell_type": "code",
   "execution_count": 49,
   "id": "WJVvOrRi4aAF",
   "metadata": {
    "colab": {
     "base_uri": "https://localhost:8080/"
    },
    "id": "WJVvOrRi4aAF",
    "outputId": "09b1292b-79d0-47db-ea92-d3b5917d5663"
   },
   "outputs": [
    {
     "data": {
      "text/plain": [
       "Electrical     1\n",
       "MSSubClass     0\n",
       "HalfBath       0\n",
       "Fireplaces     0\n",
       "Functional     0\n",
       "              ..\n",
       "MasVnrArea     0\n",
       "MasVnrType     0\n",
       "Exterior2nd    0\n",
       "Exterior1st    0\n",
       "SalePrice      0\n",
       "Length: 75, dtype: int64"
      ]
     },
     "execution_count": 49,
     "metadata": {},
     "output_type": "execute_result"
    }
   ],
   "source": [
    "df.isnull().sum().sort_values(ascending=False)"
   ]
  },
  {
   "cell_type": "code",
   "execution_count": 50,
   "id": "LsyJLBP-4aCp",
   "metadata": {
    "colab": {
     "base_uri": "https://localhost:8080/"
    },
    "id": "LsyJLBP-4aCp",
    "outputId": "0f192569-f15a-4a9e-ec04-16df4575ac6d"
   },
   "outputs": [
    {
     "data": {
      "text/plain": [
       "SBrkr    1064\n",
       "FuseA      77\n",
       "FuseF      22\n",
       "FuseP       3\n",
       "Mix         1\n",
       "NaN         1\n",
       "Name: Electrical, dtype: int64"
      ]
     },
     "execution_count": 50,
     "metadata": {},
     "output_type": "execute_result"
    }
   ],
   "source": [
    "df[\"Electrical\"].value_counts(dropna=False)"
   ]
  },
  {
   "cell_type": "code",
   "execution_count": 51,
   "id": "CoiRXjzQ4aGN",
   "metadata": {
    "id": "CoiRXjzQ4aGN"
   },
   "outputs": [],
   "source": [
    "df[\"Electrical\"].fillna(df[\"Electrical\"].value_counts().idxmax(), inplace=True)"
   ]
  },
  {
   "cell_type": "code",
   "execution_count": 52,
   "id": "xjYV8JBN4arf",
   "metadata": {
    "colab": {
     "base_uri": "https://localhost:8080/"
    },
    "id": "xjYV8JBN4arf",
    "outputId": "f8b22df3-58e1-44d6-c2cb-55324f3fe326"
   },
   "outputs": [
    {
     "data": {
      "text/plain": [
       "MSSubClass      0\n",
       "GarageYrBlt     0\n",
       "Fireplaces      0\n",
       "Functional      0\n",
       "TotRmsAbvGrd    0\n",
       "               ..\n",
       "MasVnrArea      0\n",
       "MasVnrType      0\n",
       "Exterior2nd     0\n",
       "Exterior1st     0\n",
       "SalePrice       0\n",
       "Length: 75, dtype: int64"
      ]
     },
     "execution_count": 52,
     "metadata": {},
     "output_type": "execute_result"
    }
   ],
   "source": [
    "df.isnull().sum().sort_values(ascending=False)"
   ]
  },
  {
   "cell_type": "code",
   "execution_count": null,
   "id": "twuc-_354axA",
   "metadata": {
    "id": "twuc-_354axA"
   },
   "outputs": [],
   "source": []
  },
  {
   "cell_type": "code",
   "execution_count": 53,
   "id": "4f9c2289",
   "metadata": {
    "colab": {
     "base_uri": "https://localhost:8080/",
     "height": 570
    },
    "id": "4f9c2289",
    "outputId": "0a43b907-81f1-4e42-8cbc-3f8eafe909ba"
   },
   "outputs": [
    {
     "data": {
      "text/plain": [
       "<AxesSubplot:>"
      ]
     },
     "execution_count": 53,
     "metadata": {},
     "output_type": "execute_result"
    },
    {
     "data": {
      "image/png": "[encoded data removed]",
      "text/plain": [
       "<Figure size 720x576 with 2 Axes>"
      ]
     },
     "metadata": {
      "needs_background": "light"
     },
     "output_type": "display_data"
    }
   ],
   "source": [
    "import seaborn as sns\n",
    "plt.figure(figsize=(10,8))\n",
    "sns.heatmap(df.corr(), cmap=\"coolwarm\")"
   ]
  },
  {
   "cell_type": "code",
   "execution_count": 54,
   "id": "3ccd5276",
   "metadata": {
    "colab": {
     "base_uri": "https://localhost:8080/"
    },
    "id": "3ccd5276",
    "outputId": "46e09653-fd5b-45a0-ae51-b1a909221900"
   },
   "outputs": [
    {
     "name": "stdout",
     "output_type": "stream",
     "text": [
      "<class 'pandas.core.frame.DataFrame'>\n",
      "RangeIndex: 1168 entries, 0 to 1167\n",
      "Data columns (total 75 columns):\n",
      " #   Column         Non-Null Count  Dtype  \n",
      "---  ------         --------------  -----  \n",
      " 0   MSSubClass     1168 non-null   int64  \n",
      " 1   MSZoning       1168 non-null   object \n",
      " 2   LotFrontage    1168 non-null   float64\n",
      " 3   LotArea        1168 non-null   int64  \n",
      " 4   Street         1168 non-null   object \n",
      " 5   LotShape       1168 non-null   object \n",
      " 6   LandContour    1168 non-null   object \n",
      " 7   Utilities      1168 non-null   object \n",
      " 8   LotConfig      1168 non-null   object \n",
      " 9   LandSlope      1168 non-null   object \n",
      " 10  Neighborhood   1168 non-null   object \n",
      " 11  Condition1     1168 non-null   object \n",
      " 12  Condition2     1168 non-null   object \n",
      " 13  BldgType       1168 non-null   object \n",
      " 14  HouseStyle     1168 non-null   object \n",
      " 15  OverallQual    1168 non-null   int64  \n",
      " 16  OverallCond    1168 non-null   int64  \n",
      " 17  YearBuilt      1168 non-null   int64  \n",
      " 18  YearRemodAdd   1168 non-null   int64  \n",
      " 19  RoofStyle      1168 non-null   object \n",
      " 20  RoofMatl       1168 non-null   object \n",
      " 21  Exterior1st    1168 non-null   object \n",
      " 22  Exterior2nd    1168 non-null   object \n",
      " 23  MasVnrType     1168 non-null   object \n",
      " 24  MasVnrArea     1168 non-null   float64\n",
      " 25  ExterQual      1168 non-null   object \n",
      " 26  ExterCond      1168 non-null   object \n",
      " 27  Foundation     1168 non-null   object \n",
      " 28  BsmtQual       1168 non-null   object \n",
      " 29  BsmtCond       1168 non-null   object \n",
      " 30  BsmtExposure   1168 non-null   object \n",
      " 31  BsmtFinType1   1168 non-null   object \n",
      " 32  BsmtFinSF1     1168 non-null   int64  \n",
      " 33  BsmtFinType2   1168 non-null   object \n",
      " 34  BsmtFinSF2     1168 non-null   int64  \n",
      " 35  BsmtUnfSF      1168 non-null   int64  \n",
      " 36  TotalBsmtSF    1168 non-null   int64  \n",
      " 37  Heating        1168 non-null   object \n",
      " 38  HeatingQC      1168 non-null   object \n",
      " 39  CentralAir     1168 non-null   object \n",
      " 40  Electrical     1168 non-null   object \n",
      " 41  1stFlrSF       1168 non-null   int64  \n",
      " 42  2ndFlrSF       1168 non-null   int64  \n",
      " 43  LowQualFinSF   1168 non-null   int64  \n",
      " 44  GrLivArea      1168 non-null   int64  \n",
      " 45  BsmtFullBath   1168 non-null   int64  \n",
      " 46  BsmtHalfBath   1168 non-null   int64  \n",
      " 47  FullBath       1168 non-null   int64  \n",
      " 48  HalfBath       1168 non-null   int64  \n",
      " 49  BedroomAbvGr   1168 non-null   int64  \n",
      " 50  KitchenAbvGr   1168 non-null   int64  \n",
      " 51  KitchenQual    1168 non-null   object \n",
      " 52  TotRmsAbvGrd   1168 non-null   int64  \n",
      " 53  Functional     1168 non-null   object \n",
      " 54  Fireplaces     1168 non-null   int64  \n",
      " 55  GarageType     1168 non-null   object \n",
      " 56  GarageYrBlt    1168 non-null   float64\n",
      " 57  GarageFinish   1168 non-null   object \n",
      " 58  GarageCars     1168 non-null   int64  \n",
      " 59  GarageArea     1168 non-null   int64  \n",
      " 60  GarageQual     1168 non-null   object \n",
      " 61  GarageCond     1168 non-null   object \n",
      " 62  PavedDrive     1168 non-null   object \n",
      " 63  WoodDeckSF     1168 non-null   int64  \n",
      " 64  OpenPorchSF    1168 non-null   int64  \n",
      " 65  EnclosedPorch  1168 non-null   int64  \n",
      " 66  3SsnPorch      1168 non-null   int64  \n",
      " 67  ScreenPorch    1168 non-null   int64  \n",
      " 68  PoolArea       1168 non-null   int64  \n",
      " 69  MiscVal        1168 non-null   int64  \n",
      " 70  MoSold         1168 non-null   int64  \n",
      " 71  YrSold         1168 non-null   int64  \n",
      " 72  SaleType       1168 non-null   object \n",
      " 73  SaleCondition  1168 non-null   object \n",
      " 74  SalePrice      1168 non-null   int64  \n",
      "dtypes: float64(3), int64(34), object(38)\n",
      "memory usage: 684.5+ KB\n"
     ]
    }
   ],
   "source": [
    "df.info()"
   ]
  },
  {
   "cell_type": "code",
   "execution_count": 55,
   "id": "836dad63",
   "metadata": {
    "colab": {
     "base_uri": "https://localhost:8080/",
     "height": 375
    },
    "id": "836dad63",
    "outputId": "9641366f-4635-4e1b-8015-5982c10dc351"
   },
   "outputs": [],
   "source": [
    "import numpy as np\n",
    "import pandas as pd\n",
    "from sklearn.metrics import mean_squared_error,r2_score\n",
    "import matplotlib.pyplot as plt\n",
    "from sklearn.linear_model import LinearRegression\n",
    "import seaborn as sns\n",
    "from sklearn.neighbors import LocalOutlierFactor\n",
    "from sklearn.linear_model import Lasso, Ridge, LassoCV, ElasticNet\n",
    "from sklearn.ensemble import RandomForestRegressor, GradientBoostingRegressor #, VotingRegressor\n",
    "from sklearn.model_selection import train_test_split, GridSearchCV, RandomizedSearchCV, cross_val_score, cross_validate, KFold\n",
    "from sklearn.tree import DecisionTreeRegressor\n",
    "from sklearn.neighbors import KNeighborsRegressor\n",
    "from xgboost import XGBRegressor\n",
    "from lightgbm import LGBMRegressor\n",
    "from sklearn.ensemble import AdaBoostRegressor\n",
    "#from catboost import CatBoostRegressor\n",
    "from sklearn.svm import SVR\n",
    "from sklearn.preprocessing import StandardScaler\n",
    "import warnings\n",
    "warnings.filterwarnings('ignore')"
   ]
  },
  {
   "cell_type": "code",
   "execution_count": 56,
   "id": "XUTG_7B9_zVT",
   "metadata": {
    "colab": {
     "base_uri": "https://localhost:8080/",
     "height": 488
    },
    "id": "XUTG_7B9_zVT",
    "outputId": "5d5c9673-59dd-410d-e32e-dcd31c60b6cf"
   },
   "outputs": [
    {
     "data": {
      "text/html": [
       "<div>\n",
       "<style scoped>\n",
       "    .dataframe tbody tr th:only-of-type {\n",
       "        vertical-align: middle;\n",
       "    }\n",
       "\n",
       "    .dataframe tbody tr th {\n",
       "        vertical-align: top;\n",
       "    }\n",
       "\n",
       "    .dataframe thead th {\n",
       "        text-align: right;\n",
       "    }\n",
       "</style>\n",
       "<table border=\"1\" class=\"dataframe\">\n",
       "  <thead>\n",
       "    <tr style=\"text-align: right;\">\n",
       "      <th></th>\n",
       "      <th>MSSubClass</th>\n",
       "      <th>MSZoning</th>\n",
       "      <th>LotFrontage</th>\n",
       "      <th>LotArea</th>\n",
       "      <th>Street</th>\n",
       "      <th>LotShape</th>\n",
       "      <th>LandContour</th>\n",
       "      <th>Utilities</th>\n",
       "      <th>LotConfig</th>\n",
       "      <th>LandSlope</th>\n",
       "      <th>...</th>\n",
       "      <th>EnclosedPorch</th>\n",
       "      <th>3SsnPorch</th>\n",
       "      <th>ScreenPorch</th>\n",
       "      <th>PoolArea</th>\n",
       "      <th>MiscVal</th>\n",
       "      <th>MoSold</th>\n",
       "      <th>YrSold</th>\n",
       "      <th>SaleType</th>\n",
       "      <th>SaleCondition</th>\n",
       "      <th>SalePrice</th>\n",
       "    </tr>\n",
       "  </thead>\n",
       "  <tbody>\n",
       "    <tr>\n",
       "      <th>0</th>\n",
       "      <td>20</td>\n",
       "      <td>RL</td>\n",
       "      <td>75.0</td>\n",
       "      <td>11957</td>\n",
       "      <td>Pave</td>\n",
       "      <td>IR1</td>\n",
       "      <td>Lvl</td>\n",
       "      <td>AllPub</td>\n",
       "      <td>Inside</td>\n",
       "      <td>Gtl</td>\n",
       "      <td>...</td>\n",
       "      <td>0</td>\n",
       "      <td>0</td>\n",
       "      <td>0</td>\n",
       "      <td>0</td>\n",
       "      <td>0</td>\n",
       "      <td>7</td>\n",
       "      <td>2008</td>\n",
       "      <td>WD</td>\n",
       "      <td>Normal</td>\n",
       "      <td>232000</td>\n",
       "    </tr>\n",
       "    <tr>\n",
       "      <th>1</th>\n",
       "      <td>60</td>\n",
       "      <td>RL</td>\n",
       "      <td>41.0</td>\n",
       "      <td>12393</td>\n",
       "      <td>Pave</td>\n",
       "      <td>IR2</td>\n",
       "      <td>Lvl</td>\n",
       "      <td>AllPub</td>\n",
       "      <td>FR2</td>\n",
       "      <td>Gtl</td>\n",
       "      <td>...</td>\n",
       "      <td>0</td>\n",
       "      <td>0</td>\n",
       "      <td>0</td>\n",
       "      <td>0</td>\n",
       "      <td>0</td>\n",
       "      <td>9</td>\n",
       "      <td>2006</td>\n",
       "      <td>WD</td>\n",
       "      <td>Normal</td>\n",
       "      <td>195000</td>\n",
       "    </tr>\n",
       "    <tr>\n",
       "      <th>2</th>\n",
       "      <td>160</td>\n",
       "      <td>RM</td>\n",
       "      <td>21.0</td>\n",
       "      <td>1953</td>\n",
       "      <td>Pave</td>\n",
       "      <td>Reg</td>\n",
       "      <td>Lvl</td>\n",
       "      <td>AllPub</td>\n",
       "      <td>Inside</td>\n",
       "      <td>Gtl</td>\n",
       "      <td>...</td>\n",
       "      <td>0</td>\n",
       "      <td>0</td>\n",
       "      <td>0</td>\n",
       "      <td>0</td>\n",
       "      <td>0</td>\n",
       "      <td>6</td>\n",
       "      <td>2006</td>\n",
       "      <td>WD</td>\n",
       "      <td>Normal</td>\n",
       "      <td>83000</td>\n",
       "    </tr>\n",
       "    <tr>\n",
       "      <th>3</th>\n",
       "      <td>50</td>\n",
       "      <td>RM</td>\n",
       "      <td>50.0</td>\n",
       "      <td>6060</td>\n",
       "      <td>Pave</td>\n",
       "      <td>Reg</td>\n",
       "      <td>Lvl</td>\n",
       "      <td>AllPub</td>\n",
       "      <td>Inside</td>\n",
       "      <td>Gtl</td>\n",
       "      <td>...</td>\n",
       "      <td>140</td>\n",
       "      <td>0</td>\n",
       "      <td>0</td>\n",
       "      <td>0</td>\n",
       "      <td>0</td>\n",
       "      <td>6</td>\n",
       "      <td>2007</td>\n",
       "      <td>WD</td>\n",
       "      <td>Normal</td>\n",
       "      <td>100000</td>\n",
       "    </tr>\n",
       "    <tr>\n",
       "      <th>4</th>\n",
       "      <td>60</td>\n",
       "      <td>RL</td>\n",
       "      <td>96.0</td>\n",
       "      <td>12474</td>\n",
       "      <td>Pave</td>\n",
       "      <td>Reg</td>\n",
       "      <td>Lvl</td>\n",
       "      <td>AllPub</td>\n",
       "      <td>Inside</td>\n",
       "      <td>Gtl</td>\n",
       "      <td>...</td>\n",
       "      <td>0</td>\n",
       "      <td>0</td>\n",
       "      <td>0</td>\n",
       "      <td>0</td>\n",
       "      <td>0</td>\n",
       "      <td>8</td>\n",
       "      <td>2008</td>\n",
       "      <td>New</td>\n",
       "      <td>Partial</td>\n",
       "      <td>426000</td>\n",
       "    </tr>\n",
       "    <tr>\n",
       "      <th>...</th>\n",
       "      <td>...</td>\n",
       "      <td>...</td>\n",
       "      <td>...</td>\n",
       "      <td>...</td>\n",
       "      <td>...</td>\n",
       "      <td>...</td>\n",
       "      <td>...</td>\n",
       "      <td>...</td>\n",
       "      <td>...</td>\n",
       "      <td>...</td>\n",
       "      <td>...</td>\n",
       "      <td>...</td>\n",
       "      <td>...</td>\n",
       "      <td>...</td>\n",
       "      <td>...</td>\n",
       "      <td>...</td>\n",
       "      <td>...</td>\n",
       "      <td>...</td>\n",
       "      <td>...</td>\n",
       "      <td>...</td>\n",
       "      <td>...</td>\n",
       "    </tr>\n",
       "    <tr>\n",
       "      <th>1163</th>\n",
       "      <td>70</td>\n",
       "      <td>RM</td>\n",
       "      <td>59.0</td>\n",
       "      <td>10690</td>\n",
       "      <td>Pave</td>\n",
       "      <td>Reg</td>\n",
       "      <td>Lvl</td>\n",
       "      <td>AllPub</td>\n",
       "      <td>Inside</td>\n",
       "      <td>Gtl</td>\n",
       "      <td>...</td>\n",
       "      <td>218</td>\n",
       "      <td>0</td>\n",
       "      <td>0</td>\n",
       "      <td>0</td>\n",
       "      <td>0</td>\n",
       "      <td>7</td>\n",
       "      <td>2009</td>\n",
       "      <td>WD</td>\n",
       "      <td>Normal</td>\n",
       "      <td>147000</td>\n",
       "    </tr>\n",
       "    <tr>\n",
       "      <th>1164</th>\n",
       "      <td>80</td>\n",
       "      <td>RL</td>\n",
       "      <td>80.0</td>\n",
       "      <td>8816</td>\n",
       "      <td>Pave</td>\n",
       "      <td>Reg</td>\n",
       "      <td>Lvl</td>\n",
       "      <td>AllPub</td>\n",
       "      <td>Inside</td>\n",
       "      <td>Gtl</td>\n",
       "      <td>...</td>\n",
       "      <td>0</td>\n",
       "      <td>0</td>\n",
       "      <td>0</td>\n",
       "      <td>0</td>\n",
       "      <td>0</td>\n",
       "      <td>6</td>\n",
       "      <td>2010</td>\n",
       "      <td>WD</td>\n",
       "      <td>Normal</td>\n",
       "      <td>155000</td>\n",
       "    </tr>\n",
       "    <tr>\n",
       "      <th>1165</th>\n",
       "      <td>190</td>\n",
       "      <td>RM</td>\n",
       "      <td>60.0</td>\n",
       "      <td>6780</td>\n",
       "      <td>Pave</td>\n",
       "      <td>Reg</td>\n",
       "      <td>Lvl</td>\n",
       "      <td>AllPub</td>\n",
       "      <td>Inside</td>\n",
       "      <td>Gtl</td>\n",
       "      <td>...</td>\n",
       "      <td>0</td>\n",
       "      <td>0</td>\n",
       "      <td>0</td>\n",
       "      <td>0</td>\n",
       "      <td>0</td>\n",
       "      <td>6</td>\n",
       "      <td>2006</td>\n",
       "      <td>WD</td>\n",
       "      <td>Normal</td>\n",
       "      <td>84500</td>\n",
       "    </tr>\n",
       "    <tr>\n",
       "      <th>1166</th>\n",
       "      <td>20</td>\n",
       "      <td>RL</td>\n",
       "      <td>67.0</td>\n",
       "      <td>10656</td>\n",
       "      <td>Pave</td>\n",
       "      <td>IR1</td>\n",
       "      <td>HLS</td>\n",
       "      <td>AllPub</td>\n",
       "      <td>Inside</td>\n",
       "      <td>Gtl</td>\n",
       "      <td>...</td>\n",
       "      <td>0</td>\n",
       "      <td>0</td>\n",
       "      <td>0</td>\n",
       "      <td>0</td>\n",
       "      <td>0</td>\n",
       "      <td>11</td>\n",
       "      <td>2007</td>\n",
       "      <td>New</td>\n",
       "      <td>Partial</td>\n",
       "      <td>248900</td>\n",
       "    </tr>\n",
       "    <tr>\n",
       "      <th>1167</th>\n",
       "      <td>20</td>\n",
       "      <td>RL</td>\n",
       "      <td>96.0</td>\n",
       "      <td>12444</td>\n",
       "      <td>Pave</td>\n",
       "      <td>Reg</td>\n",
       "      <td>Lvl</td>\n",
       "      <td>AllPub</td>\n",
       "      <td>FR2</td>\n",
       "      <td>Gtl</td>\n",
       "      <td>...</td>\n",
       "      <td>0</td>\n",
       "      <td>304</td>\n",
       "      <td>0</td>\n",
       "      <td>0</td>\n",
       "      <td>0</td>\n",
       "      <td>11</td>\n",
       "      <td>2008</td>\n",
       "      <td>New</td>\n",
       "      <td>Partial</td>\n",
       "      <td>394617</td>\n",
       "    </tr>\n",
       "  </tbody>\n",
       "</table>\n",
       "<p>1168 rows × 75 columns</p>\n",
       "</div>"
      ],
      "text/plain": [
       "      MSSubClass MSZoning  LotFrontage  LotArea Street LotShape LandContour  \\\n",
       "0             20       RL         75.0    11957   Pave      IR1         Lvl   \n",
       "1             60       RL         41.0    12393   Pave      IR2         Lvl   \n",
       "2            160       RM         21.0     1953   Pave      Reg         Lvl   \n",
       "3             50       RM         50.0     6060   Pave      Reg         Lvl   \n",
       "4             60       RL         96.0    12474   Pave      Reg         Lvl   \n",
       "...          ...      ...          ...      ...    ...      ...         ...   \n",
       "1163          70       RM         59.0    10690   Pave      Reg         Lvl   \n",
       "1164          80       RL         80.0     8816   Pave      Reg         Lvl   \n",
       "1165         190       RM         60.0     6780   Pave      Reg         Lvl   \n",
       "1166          20       RL         67.0    10656   Pave      IR1         HLS   \n",
       "1167          20       RL         96.0    12444   Pave      Reg         Lvl   \n",
       "\n",
       "     Utilities LotConfig LandSlope  ... EnclosedPorch 3SsnPorch ScreenPorch  \\\n",
       "0       AllPub    Inside       Gtl  ...             0         0           0   \n",
       "1       AllPub       FR2       Gtl  ...             0         0           0   \n",
       "2       AllPub    Inside       Gtl  ...             0         0           0   \n",
       "3       AllPub    Inside       Gtl  ...           140         0           0   \n",
       "4       AllPub    Inside       Gtl  ...             0         0           0   \n",
       "...        ...       ...       ...  ...           ...       ...         ...   \n",
       "1163    AllPub    Inside       Gtl  ...           218         0           0   \n",
       "1164    AllPub    Inside       Gtl  ...             0         0           0   \n",
       "1165    AllPub    Inside       Gtl  ...             0         0           0   \n",
       "1166    AllPub    Inside       Gtl  ...             0         0           0   \n",
       "1167    AllPub       FR2       Gtl  ...             0       304           0   \n",
       "\n",
       "     PoolArea MiscVal  MoSold  YrSold  SaleType  SaleCondition SalePrice  \n",
       "0           0       0       7    2008        WD         Normal    232000  \n",
       "1           0       0       9    2006        WD         Normal    195000  \n",
       "2           0       0       6    2006        WD         Normal     83000  \n",
       "3           0       0       6    2007        WD         Normal    100000  \n",
       "4           0       0       8    2008       New        Partial    426000  \n",
       "...       ...     ...     ...     ...       ...            ...       ...  \n",
       "1163        0       0       7    2009        WD         Normal    147000  \n",
       "1164        0       0       6    2010        WD         Normal    155000  \n",
       "1165        0       0       6    2006        WD         Normal     84500  \n",
       "1166        0       0      11    2007       New        Partial    248900  \n",
       "1167        0       0      11    2008       New        Partial    394617  \n",
       "\n",
       "[1168 rows x 75 columns]"
      ]
     },
     "execution_count": 56,
     "metadata": {},
     "output_type": "execute_result"
    }
   ],
   "source": [
    "df"
   ]
  },
  {
   "cell_type": "code",
   "execution_count": 57,
   "id": "06b594f6",
   "metadata": {
    "id": "06b594f6"
   },
   "outputs": [],
   "source": [
    "df = pd.get_dummies(df, drop_first=True)"
   ]
  },
  {
   "cell_type": "code",
   "execution_count": 58,
   "id": "99ef2acf",
   "metadata": {
    "colab": {
     "base_uri": "https://localhost:8080/"
    },
    "id": "99ef2acf",
    "outputId": "32e7641a-7567-4d29-bc7b-4fddc03a25f4"
   },
   "outputs": [
    {
     "data": {
      "text/plain": [
       "(1168, 230)"
      ]
     },
     "execution_count": 58,
     "metadata": {},
     "output_type": "execute_result"
    }
   ],
   "source": [
    "df.shape"
   ]
  },
  {
   "cell_type": "code",
   "execution_count": 89,
   "id": "940ec85e",
   "metadata": {},
   "outputs": [
    {
     "data": {
      "text/html": [
       "<div>\n",
       "<style scoped>\n",
       "    .dataframe tbody tr th:only-of-type {\n",
       "        vertical-align: middle;\n",
       "    }\n",
       "\n",
       "    .dataframe tbody tr th {\n",
       "        vertical-align: top;\n",
       "    }\n",
       "\n",
       "    .dataframe thead th {\n",
       "        text-align: right;\n",
       "    }\n",
       "</style>\n",
       "<table border=\"1\" class=\"dataframe\">\n",
       "  <thead>\n",
       "    <tr style=\"text-align: right;\">\n",
       "      <th></th>\n",
       "      <th>MSSubClass</th>\n",
       "      <th>LotFrontage</th>\n",
       "      <th>LotArea</th>\n",
       "      <th>OverallQual</th>\n",
       "      <th>OverallCond</th>\n",
       "      <th>YearBuilt</th>\n",
       "      <th>YearRemodAdd</th>\n",
       "      <th>MasVnrArea</th>\n",
       "      <th>BsmtFinSF1</th>\n",
       "      <th>BsmtFinSF2</th>\n",
       "      <th>...</th>\n",
       "      <th>SaleType_ConLI</th>\n",
       "      <th>SaleType_ConLw</th>\n",
       "      <th>SaleType_New</th>\n",
       "      <th>SaleType_Oth</th>\n",
       "      <th>SaleType_WD</th>\n",
       "      <th>SaleCondition_AdjLand</th>\n",
       "      <th>SaleCondition_Alloca</th>\n",
       "      <th>SaleCondition_Family</th>\n",
       "      <th>SaleCondition_Normal</th>\n",
       "      <th>SaleCondition_Partial</th>\n",
       "    </tr>\n",
       "  </thead>\n",
       "  <tbody>\n",
       "    <tr>\n",
       "      <th>0</th>\n",
       "      <td>20</td>\n",
       "      <td>75.0</td>\n",
       "      <td>11957</td>\n",
       "      <td>8</td>\n",
       "      <td>5</td>\n",
       "      <td>2006</td>\n",
       "      <td>2006</td>\n",
       "      <td>53.0</td>\n",
       "      <td>24</td>\n",
       "      <td>0</td>\n",
       "      <td>...</td>\n",
       "      <td>0</td>\n",
       "      <td>0</td>\n",
       "      <td>0</td>\n",
       "      <td>0</td>\n",
       "      <td>1</td>\n",
       "      <td>0</td>\n",
       "      <td>0</td>\n",
       "      <td>0</td>\n",
       "      <td>1</td>\n",
       "      <td>0</td>\n",
       "    </tr>\n",
       "    <tr>\n",
       "      <th>1</th>\n",
       "      <td>60</td>\n",
       "      <td>41.0</td>\n",
       "      <td>12393</td>\n",
       "      <td>7</td>\n",
       "      <td>5</td>\n",
       "      <td>2004</td>\n",
       "      <td>2005</td>\n",
       "      <td>0.0</td>\n",
       "      <td>0</td>\n",
       "      <td>0</td>\n",
       "      <td>...</td>\n",
       "      <td>0</td>\n",
       "      <td>0</td>\n",
       "      <td>0</td>\n",
       "      <td>0</td>\n",
       "      <td>1</td>\n",
       "      <td>0</td>\n",
       "      <td>0</td>\n",
       "      <td>0</td>\n",
       "      <td>1</td>\n",
       "      <td>0</td>\n",
       "    </tr>\n",
       "    <tr>\n",
       "      <th>2</th>\n",
       "      <td>160</td>\n",
       "      <td>21.0</td>\n",
       "      <td>1953</td>\n",
       "      <td>6</td>\n",
       "      <td>5</td>\n",
       "      <td>1973</td>\n",
       "      <td>1973</td>\n",
       "      <td>408.0</td>\n",
       "      <td>309</td>\n",
       "      <td>0</td>\n",
       "      <td>...</td>\n",
       "      <td>0</td>\n",
       "      <td>0</td>\n",
       "      <td>0</td>\n",
       "      <td>0</td>\n",
       "      <td>1</td>\n",
       "      <td>0</td>\n",
       "      <td>0</td>\n",
       "      <td>0</td>\n",
       "      <td>1</td>\n",
       "      <td>0</td>\n",
       "    </tr>\n",
       "    <tr>\n",
       "      <th>3</th>\n",
       "      <td>50</td>\n",
       "      <td>50.0</td>\n",
       "      <td>6060</td>\n",
       "      <td>4</td>\n",
       "      <td>5</td>\n",
       "      <td>1939</td>\n",
       "      <td>1950</td>\n",
       "      <td>0.0</td>\n",
       "      <td>0</td>\n",
       "      <td>0</td>\n",
       "      <td>...</td>\n",
       "      <td>0</td>\n",
       "      <td>0</td>\n",
       "      <td>0</td>\n",
       "      <td>0</td>\n",
       "      <td>1</td>\n",
       "      <td>0</td>\n",
       "      <td>0</td>\n",
       "      <td>0</td>\n",
       "      <td>1</td>\n",
       "      <td>0</td>\n",
       "    </tr>\n",
       "    <tr>\n",
       "      <th>4</th>\n",
       "      <td>60</td>\n",
       "      <td>96.0</td>\n",
       "      <td>12474</td>\n",
       "      <td>10</td>\n",
       "      <td>5</td>\n",
       "      <td>2007</td>\n",
       "      <td>2008</td>\n",
       "      <td>272.0</td>\n",
       "      <td>1280</td>\n",
       "      <td>0</td>\n",
       "      <td>...</td>\n",
       "      <td>0</td>\n",
       "      <td>0</td>\n",
       "      <td>1</td>\n",
       "      <td>0</td>\n",
       "      <td>0</td>\n",
       "      <td>0</td>\n",
       "      <td>0</td>\n",
       "      <td>0</td>\n",
       "      <td>0</td>\n",
       "      <td>1</td>\n",
       "    </tr>\n",
       "    <tr>\n",
       "      <th>...</th>\n",
       "      <td>...</td>\n",
       "      <td>...</td>\n",
       "      <td>...</td>\n",
       "      <td>...</td>\n",
       "      <td>...</td>\n",
       "      <td>...</td>\n",
       "      <td>...</td>\n",
       "      <td>...</td>\n",
       "      <td>...</td>\n",
       "      <td>...</td>\n",
       "      <td>...</td>\n",
       "      <td>...</td>\n",
       "      <td>...</td>\n",
       "      <td>...</td>\n",
       "      <td>...</td>\n",
       "      <td>...</td>\n",
       "      <td>...</td>\n",
       "      <td>...</td>\n",
       "      <td>...</td>\n",
       "      <td>...</td>\n",
       "      <td>...</td>\n",
       "    </tr>\n",
       "    <tr>\n",
       "      <th>1163</th>\n",
       "      <td>70</td>\n",
       "      <td>59.0</td>\n",
       "      <td>10690</td>\n",
       "      <td>5</td>\n",
       "      <td>7</td>\n",
       "      <td>1920</td>\n",
       "      <td>1997</td>\n",
       "      <td>0.0</td>\n",
       "      <td>456</td>\n",
       "      <td>0</td>\n",
       "      <td>...</td>\n",
       "      <td>0</td>\n",
       "      <td>0</td>\n",
       "      <td>0</td>\n",
       "      <td>0</td>\n",
       "      <td>1</td>\n",
       "      <td>0</td>\n",
       "      <td>0</td>\n",
       "      <td>0</td>\n",
       "      <td>1</td>\n",
       "      <td>0</td>\n",
       "    </tr>\n",
       "    <tr>\n",
       "      <th>1164</th>\n",
       "      <td>80</td>\n",
       "      <td>80.0</td>\n",
       "      <td>8816</td>\n",
       "      <td>6</td>\n",
       "      <td>7</td>\n",
       "      <td>1971</td>\n",
       "      <td>1971</td>\n",
       "      <td>80.0</td>\n",
       "      <td>504</td>\n",
       "      <td>0</td>\n",
       "      <td>...</td>\n",
       "      <td>0</td>\n",
       "      <td>0</td>\n",
       "      <td>0</td>\n",
       "      <td>0</td>\n",
       "      <td>1</td>\n",
       "      <td>0</td>\n",
       "      <td>0</td>\n",
       "      <td>0</td>\n",
       "      <td>1</td>\n",
       "      <td>0</td>\n",
       "    </tr>\n",
       "    <tr>\n",
       "      <th>1165</th>\n",
       "      <td>190</td>\n",
       "      <td>60.0</td>\n",
       "      <td>6780</td>\n",
       "      <td>6</td>\n",
       "      <td>8</td>\n",
       "      <td>1935</td>\n",
       "      <td>1982</td>\n",
       "      <td>0.0</td>\n",
       "      <td>490</td>\n",
       "      <td>0</td>\n",
       "      <td>...</td>\n",
       "      <td>0</td>\n",
       "      <td>0</td>\n",
       "      <td>0</td>\n",
       "      <td>0</td>\n",
       "      <td>1</td>\n",
       "      <td>0</td>\n",
       "      <td>0</td>\n",
       "      <td>0</td>\n",
       "      <td>1</td>\n",
       "      <td>0</td>\n",
       "    </tr>\n",
       "    <tr>\n",
       "      <th>1166</th>\n",
       "      <td>20</td>\n",
       "      <td>67.0</td>\n",
       "      <td>10656</td>\n",
       "      <td>8</td>\n",
       "      <td>5</td>\n",
       "      <td>2006</td>\n",
       "      <td>2007</td>\n",
       "      <td>274.0</td>\n",
       "      <td>0</td>\n",
       "      <td>0</td>\n",
       "      <td>...</td>\n",
       "      <td>0</td>\n",
       "      <td>0</td>\n",
       "      <td>1</td>\n",
       "      <td>0</td>\n",
       "      <td>0</td>\n",
       "      <td>0</td>\n",
       "      <td>0</td>\n",
       "      <td>0</td>\n",
       "      <td>0</td>\n",
       "      <td>1</td>\n",
       "    </tr>\n",
       "    <tr>\n",
       "      <th>1167</th>\n",
       "      <td>20</td>\n",
       "      <td>96.0</td>\n",
       "      <td>12444</td>\n",
       "      <td>8</td>\n",
       "      <td>5</td>\n",
       "      <td>2008</td>\n",
       "      <td>2008</td>\n",
       "      <td>426.0</td>\n",
       "      <td>1336</td>\n",
       "      <td>0</td>\n",
       "      <td>...</td>\n",
       "      <td>0</td>\n",
       "      <td>0</td>\n",
       "      <td>1</td>\n",
       "      <td>0</td>\n",
       "      <td>0</td>\n",
       "      <td>0</td>\n",
       "      <td>0</td>\n",
       "      <td>0</td>\n",
       "      <td>0</td>\n",
       "      <td>1</td>\n",
       "    </tr>\n",
       "  </tbody>\n",
       "</table>\n",
       "<p>1168 rows × 230 columns</p>\n",
       "</div>"
      ],
      "text/plain": [
       "      MSSubClass  LotFrontage  LotArea  OverallQual  OverallCond  YearBuilt  \\\n",
       "0             20         75.0    11957            8            5       2006   \n",
       "1             60         41.0    12393            7            5       2004   \n",
       "2            160         21.0     1953            6            5       1973   \n",
       "3             50         50.0     6060            4            5       1939   \n",
       "4             60         96.0    12474           10            5       2007   \n",
       "...          ...          ...      ...          ...          ...        ...   \n",
       "1163          70         59.0    10690            5            7       1920   \n",
       "1164          80         80.0     8816            6            7       1971   \n",
       "1165         190         60.0     6780            6            8       1935   \n",
       "1166          20         67.0    10656            8            5       2006   \n",
       "1167          20         96.0    12444            8            5       2008   \n",
       "\n",
       "      YearRemodAdd  MasVnrArea  BsmtFinSF1  BsmtFinSF2  ...  SaleType_ConLI  \\\n",
       "0             2006        53.0          24           0  ...               0   \n",
       "1             2005         0.0           0           0  ...               0   \n",
       "2             1973       408.0         309           0  ...               0   \n",
       "3             1950         0.0           0           0  ...               0   \n",
       "4             2008       272.0        1280           0  ...               0   \n",
       "...            ...         ...         ...         ...  ...             ...   \n",
       "1163          1997         0.0         456           0  ...               0   \n",
       "1164          1971        80.0         504           0  ...               0   \n",
       "1165          1982         0.0         490           0  ...               0   \n",
       "1166          2007       274.0           0           0  ...               0   \n",
       "1167          2008       426.0        1336           0  ...               0   \n",
       "\n",
       "      SaleType_ConLw  SaleType_New  SaleType_Oth  SaleType_WD  \\\n",
       "0                  0             0             0            1   \n",
       "1                  0             0             0            1   \n",
       "2                  0             0             0            1   \n",
       "3                  0             0             0            1   \n",
       "4                  0             1             0            0   \n",
       "...              ...           ...           ...          ...   \n",
       "1163               0             0             0            1   \n",
       "1164               0             0             0            1   \n",
       "1165               0             0             0            1   \n",
       "1166               0             1             0            0   \n",
       "1167               0             1             0            0   \n",
       "\n",
       "      SaleCondition_AdjLand  SaleCondition_Alloca  SaleCondition_Family  \\\n",
       "0                         0                     0                     0   \n",
       "1                         0                     0                     0   \n",
       "2                         0                     0                     0   \n",
       "3                         0                     0                     0   \n",
       "4                         0                     0                     0   \n",
       "...                     ...                   ...                   ...   \n",
       "1163                      0                     0                     0   \n",
       "1164                      0                     0                     0   \n",
       "1165                      0                     0                     0   \n",
       "1166                      0                     0                     0   \n",
       "1167                      0                     0                     0   \n",
       "\n",
       "      SaleCondition_Normal  SaleCondition_Partial  \n",
       "0                        1                      0  \n",
       "1                        1                      0  \n",
       "2                        1                      0  \n",
       "3                        1                      0  \n",
       "4                        0                      1  \n",
       "...                    ...                    ...  \n",
       "1163                     1                      0  \n",
       "1164                     1                      0  \n",
       "1165                     1                      0  \n",
       "1166                     0                      1  \n",
       "1167                     0                      1  \n",
       "\n",
       "[1168 rows x 230 columns]"
      ]
     },
     "execution_count": 89,
     "metadata": {},
     "output_type": "execute_result"
    }
   ],
   "source": [
    "df"
   ]
  },
  {
   "cell_type": "code",
   "execution_count": 59,
   "id": "62cd9ae6",
   "metadata": {
    "id": "62cd9ae6"
   },
   "outputs": [],
   "source": [
    "X = df.drop([\"SalePrice\"], axis=1)\n",
    "y = df[\"SalePrice\"]"
   ]
  },
  {
   "cell_type": "code",
   "execution_count": 60,
   "id": "d3e814b1",
   "metadata": {
    "id": "d3e814b1"
   },
   "outputs": [],
   "source": [
    "X_train, X_test, y_train, y_test = train_test_split(X, y, test_size=0.20, random_state=42)"
   ]
  },
  {
   "cell_type": "code",
   "execution_count": 62,
   "id": "Pn_AUqwMg6P0",
   "metadata": {
    "id": "Pn_AUqwMg6P0"
   },
   "outputs": [],
   "source": [
    "scaler = StandardScaler()"
   ]
  },
  {
   "cell_type": "code",
   "execution_count": 63,
   "id": "nU6xGtCYg6Se",
   "metadata": {
    "id": "nU6xGtCYg6Se"
   },
   "outputs": [],
   "source": [
    "X_train = scaler.fit_transform(X_train)\n",
    "X_test = scaler.transform(X_test)"
   ]
  },
  {
   "cell_type": "code",
   "execution_count": 68,
   "id": "39b1e2b0",
   "metadata": {},
   "outputs": [
    {
     "name": "stdout",
     "output_type": "stream",
     "text": [
      "R2-Score: -4.329390128170201e+22 (LR) \n",
      "[-2.32414539e+20 -3.70473999e+15 -3.76840361e+23 -7.80897796e+11\n",
      " -2.66721904e+22 -1.28965881e+21 -1.55326984e+21  8.53578585e-01\n",
      " -1.02145095e+17 -2.63510124e+22]\n",
      "R2-Score: -4.329390128170201e+22 (Ridge) \n",
      "[-2.32414539e+20 -3.70473999e+15 -3.76840361e+23 -7.80897796e+11\n",
      " -2.66721904e+22 -1.28965881e+21 -1.55326984e+21  8.53578585e-01\n",
      " -1.02145095e+17 -2.63510124e+22]\n",
      "R2-Score: -4.329390128170201e+22 (Lasso) \n",
      "[-2.32414539e+20 -3.70473999e+15 -3.76840361e+23 -7.80897796e+11\n",
      " -2.66721904e+22 -1.28965881e+21 -1.55326984e+21  8.53578585e-01\n",
      " -1.02145095e+17 -2.63510124e+22]\n",
      "R2-Score: -4.329390128170201e+22 (KNN) \n",
      "[-2.32414539e+20 -3.70473999e+15 -3.76840361e+23 -7.80897796e+11\n",
      " -2.66721904e+22 -1.28965881e+21 -1.55326984e+21  8.53578585e-01\n",
      " -1.02145095e+17 -2.63510124e+22]\n",
      "R2-Score: -4.329390128170201e+22 (CART) \n",
      "[-2.32414539e+20 -3.70473999e+15 -3.76840361e+23 -7.80897796e+11\n",
      " -2.66721904e+22 -1.28965881e+21 -1.55326984e+21  8.53578585e-01\n",
      " -1.02145095e+17 -2.63510124e+22]\n",
      "R2-Score: -4.329390128170201e+22 (RF) \n",
      "[-2.32414539e+20 -3.70473999e+15 -3.76840361e+23 -7.80897796e+11\n",
      " -2.66721904e+22 -1.28965881e+21 -1.55326984e+21  8.53578585e-01\n",
      " -1.02145095e+17 -2.63510124e+22]\n",
      "R2-Score: -4.329390128170201e+22 (SVR) \n",
      "[-2.32414539e+20 -3.70473999e+15 -3.76840361e+23 -7.80897796e+11\n",
      " -2.66721904e+22 -1.28965881e+21 -1.55326984e+21  8.53578585e-01\n",
      " -1.02145095e+17 -2.63510124e+22]\n",
      "R2-Score: -4.329390128170201e+22 (GBM) \n",
      "[-2.32414539e+20 -3.70473999e+15 -3.76840361e+23 -7.80897796e+11\n",
      " -2.66721904e+22 -1.28965881e+21 -1.55326984e+21  8.53578585e-01\n",
      " -1.02145095e+17 -2.63510124e+22]\n",
      "R2-Score: -4.329390128170201e+22 (XGBoost) \n",
      "[-2.32414539e+20 -3.70473999e+15 -3.76840361e+23 -7.80897796e+11\n",
      " -2.66721904e+22 -1.28965881e+21 -1.55326984e+21  8.53578585e-01\n",
      " -1.02145095e+17 -2.63510124e+22]\n",
      "R2-Score: -4.329390128170201e+22 (LightGBM) \n",
      "[-2.32414539e+20 -3.70473999e+15 -3.76840361e+23 -7.80897796e+11\n",
      " -2.66721904e+22 -1.28965881e+21 -1.55326984e+21  8.53578585e-01\n",
      " -1.02145095e+17 -2.63510124e+22]\n"
     ]
    }
   ],
   "source": [
    "######################################################\n",
    "# Base Models\n",
    "######################################################\n",
    "models = [('LR', LinearRegression()),\n",
    "          (\"Ridge\", Ridge(random_state=42)),\n",
    "          (\"Lasso\", Lasso(random_state=42)),\n",
    "          ('KNN', KNeighborsRegressor()),\n",
    "          ('CART', DecisionTreeRegressor(random_state=42)),\n",
    "          ('RF', RandomForestRegressor(random_state=42)),\n",
    "          ('SVR', SVR()),\n",
    "          ('GBM', GradientBoostingRegressor(random_state=42)),\n",
    "          (\"XGBoost\", XGBRegressor(objective='reg:squarederror',random_state=42)),\n",
    "          (\"LightGBM\", LGBMRegressor(random_state=42))\n",
    "          ]\n",
    "\n",
    "for name, regressor in models:\n",
    "    r2 = np.mean(cross_val_score(linear_model, X_train, y_train, cv =10, scoring=\"r2\"))\n",
    "    print(f\"R2-Score: {round(r2, 4)} ({name}) \")\n",
    "    print(cross_val_score(linear_model, X_train, y_train, cv =10, scoring=\"r2\"))"
   ]
  },
  {
   "cell_type": "markdown",
   "id": "1f26c14a",
   "metadata": {},
   "source": [
    "### Automated Hyperparameter Tuning"
   ]
  },
  {
   "cell_type": "code",
   "execution_count": 71,
   "id": "A5ylkAeXg6XW",
   "metadata": {
    "colab": {
     "base_uri": "https://localhost:8080/"
    },
    "id": "A5ylkAeXg6XW",
    "outputId": "a62df136-2eea-4aee-bfa3-a5512a3dd9ad"
   },
   "outputs": [
    {
     "name": "stdout",
     "output_type": "stream",
     "text": [
      "########## CART ##########\n",
      "R2-Score: 0.7111 (CART) \n",
      "R2-Score (After): 0.7256 (CART) \n",
      "0.7256099477348674\n",
      "CART best params: {'max_depth': 5, 'min_samples_split': 17}\n",
      "\n",
      "########## RF ##########\n",
      "R2-Score: 0.875 (RF) \n",
      "R2-Score (After): 0.8669 (RF) \n",
      "0.8669219306414823\n",
      "RF best params: {'max_depth': None, 'max_features': 'auto', 'min_samples_split': 15, 'n_estimators': 2000}\n",
      "\n",
      "########## XGBoost ##########\n",
      "R2-Score: 0.8873 (XGBoost) \n",
      "R2-Score (After): 0.9057 (XGBoost) \n",
      "0.9057452193101263\n",
      "XGBoost best params: {'colsample_bytree': 0.5, 'learning_rate': 0.1, 'max_depth': 5, 'n_estimators': 500}\n",
      "\n",
      "########## LightGBM ##########\n",
      "R2-Score: 0.8906 (LightGBM) \n",
      "R2-Score (After): 0.9019 (LightGBM) \n",
      "0.9019256522974896\n",
      "LightGBM best params: {'colsample_bytree': 0.5, 'learning_rate': 0.01, 'n_estimators': 1500}\n",
      "\n"
     ]
    }
   ],
   "source": [
    "\n",
    "cart_params = {'max_depth': range(1, 6),\n",
    "               \"min_samples_split\": range(2, 30)}\n",
    "rf_params = {\"max_depth\": [6, None],\n",
    "             \"max_features\": [5, 7, \"auto\"],\n",
    "             \"min_samples_split\": [15, 20],\n",
    "             \"n_estimators\": [500, 1000,2000]}\n",
    "xgboost_params = {\"learning_rate\": [0.1, 0.01, 0.001],\n",
    "                  \"max_depth\": [5,6],\n",
    "                  \"n_estimators\": [200, 300, 500],\n",
    "                  \"colsample_bytree\": [0.5, 0.7]}\n",
    "lightgbm_params = {\"learning_rate\": [0.01, 0.1, 0.001],\n",
    "                   \"n_estimators\": [500, 1500],\n",
    "                   \"colsample_bytree\": [0.5, 0.7]}\n",
    "\n",
    "regressors = [(\"CART\", DecisionTreeRegressor(random_state=42), cart_params),\n",
    "              (\"RF\", RandomForestRegressor(random_state=42), rf_params),\n",
    "              ('XGBoost', XGBRegressor(objective='reg:squarederror',random_state=42), xgboost_params),\n",
    "              ('LightGBM', LGBMRegressor(random_state=42), lightgbm_params)]\n",
    "best_models = {}\n",
    "for name, regressor, params in regressors:\n",
    "    print(f\"########## {name} ##########\")\n",
    "    r2 = np.mean(cross_val_score(regressor, X_train, y_train, cv =10, scoring=\"r2\"))\n",
    "    print(f\"R2-Score: {round(r2, 4)} ({name}) \")\n",
    "    gs_best = GridSearchCV(regressor, params, cv=3, n_jobs=-1, verbose=False).fit(X_train, y_train)\n",
    "    final_model = regressor.set_params(**gs_best.best_params_)\n",
    "    r2 = np.mean(cross_val_score(regressor, X_train, y_train, cv =10, scoring=\"r2\"))\n",
    "    print(f\"R2-Score (After): {round(r2, 4)} ({name}) \")\n",
    "    print(np.mean(cross_val_score(regressor, X_train, y_train, cv =10, scoring=\"r2\")))\n",
    "    print(f\"{name} best params: {gs_best.best_params_}\", end=\"\\n\\n\")\n",
    "    best_models[name] = final_model"
   ]
  },
  {
   "cell_type": "code",
   "execution_count": 72,
   "id": "3def4b36",
   "metadata": {},
   "outputs": [],
   "source": [
    "lgm_reg = LGBMRegressor(colsample_bytree=.5, learning_rate=.01, n_estimators=1500)"
   ]
  },
  {
   "cell_type": "code",
   "execution_count": 73,
   "id": "2069027c",
   "metadata": {},
   "outputs": [
    {
     "data": {
      "text/plain": [
       "LGBMRegressor(colsample_bytree=0.5, learning_rate=0.01, n_estimators=1500)"
      ]
     },
     "execution_count": 73,
     "metadata": {},
     "output_type": "execute_result"
    }
   ],
   "source": [
    "lgm_reg.fit(X_train,y_train)"
   ]
  },
  {
   "cell_type": "code",
   "execution_count": 74,
   "id": "aeb5b25d",
   "metadata": {
    "id": "aeb5b25d",
    "outputId": "4b14d1ea-6fc1-4982-f889-bb90dedff419"
   },
   "outputs": [
    {
     "data": {
      "text/plain": [
       "{'fit_time': array([3.14805984, 3.16005492, 3.63576221, 3.4288888 , 3.09209776,\n",
       "        3.03213382, 3.36393046, 3.06811333, 3.03413129, 3.29197478]),\n",
       " 'score_time': array([0.01499271, 0.00899673, 0.00899601, 0.01799035, 0.02298498,\n",
       "        0.00999784, 0.00899529, 0.00899601, 0.0199883 , 0.01199269]),\n",
       " 'test_score': array([0.89177755, 0.88565501, 0.92851268, 0.91772327, 0.87761687,\n",
       "        0.93717181, 0.8941096 , 0.88401204, 0.88237896, 0.90360786]),\n",
       " 'train_score': array([0.99181167, 0.98930605, 0.99018483, 0.99104471, 0.99117328,\n",
       "        0.9905275 , 0.98908381, 0.99159001, 0.98971841, 0.98981696])}"
      ]
     },
     "execution_count": 74,
     "metadata": {},
     "output_type": "execute_result"
    }
   ],
   "source": [
    "cross_validate(lgm_reg, X_train, y_train, cv=10, return_train_score=True)"
   ]
  },
  {
   "cell_type": "code",
   "execution_count": 75,
   "id": "25b62f58",
   "metadata": {
    "id": "25b62f58"
   },
   "outputs": [],
   "source": [
    "df1 = pd.DataFrame(cross_validate(lgm_reg, X_train, y_train, cv=10, return_train_score=True))"
   ]
  },
  {
   "cell_type": "code",
   "execution_count": 76,
   "id": "42f48af8",
   "metadata": {
    "id": "42f48af8",
    "outputId": "b0eb35cb-7059-4d03-ed6e-ba67afbb70a6"
   },
   "outputs": [
    {
     "data": {
      "text/plain": [
       "fit_time       3.159455\n",
       "score_time     0.010196\n",
       "test_score     0.900257\n",
       "train_score    0.990426\n",
       "dtype: float64"
      ]
     },
     "execution_count": 76,
     "metadata": {},
     "output_type": "execute_result"
    }
   ],
   "source": [
    "df1.mean()"
   ]
  },
  {
   "cell_type": "code",
   "execution_count": 77,
   "id": "696c5e76",
   "metadata": {},
   "outputs": [
    {
     "data": {
      "text/plain": [
       "0.7652159848893398"
      ]
     },
     "execution_count": 77,
     "metadata": {},
     "output_type": "execute_result"
    }
   ],
   "source": [
    "r2_score(y_test, lgm_reg.predict(X_test))"
   ]
  },
  {
   "cell_type": "code",
   "execution_count": 78,
   "id": "dd44400c",
   "metadata": {},
   "outputs": [],
   "source": [
    "xgboost_reg = XGBRegressor(colsample_bytree=.5, learning_rate=.1, max_depth=5, n_estimators=500)"
   ]
  },
  {
   "cell_type": "code",
   "execution_count": 79,
   "id": "bc1d28c7",
   "metadata": {},
   "outputs": [
    {
     "data": {
      "text/plain": [
       "XGBRegressor(base_score=0.5, booster='gbtree', colsample_bylevel=1,\n",
       "             colsample_bynode=1, colsample_bytree=0.5, enable_categorical=False,\n",
       "             gamma=0, gpu_id=-1, importance_type=None,\n",
       "             interaction_constraints='', learning_rate=0.1, max_delta_step=0,\n",
       "             max_depth=5, min_child_weight=1, missing=nan,\n",
       "             monotone_constraints='()', n_estimators=500, n_jobs=4,\n",
       "             num_parallel_tree=1, predictor='auto', random_state=0, reg_alpha=0,\n",
       "             reg_lambda=1, scale_pos_weight=1, subsample=1, tree_method='exact',\n",
       "             validate_parameters=1, verbosity=None)"
      ]
     },
     "execution_count": 79,
     "metadata": {},
     "output_type": "execute_result"
    }
   ],
   "source": [
    "xgboost_reg.fit(X_train, y_train)"
   ]
  },
  {
   "cell_type": "code",
   "execution_count": 80,
   "id": "361be291",
   "metadata": {},
   "outputs": [
    {
     "data": {
      "text/plain": [
       "{'fit_time': array([1.72493696, 1.81388283, 1.78090477, 1.69195724, 1.82487822,\n",
       "        1.72393966, 1.70794988, 1.67097187, 2.03374743, 1.68896008]),\n",
       " 'score_time': array([0.00899458, 0.00899482, 0.00799489, 0.00799632, 0.00799346,\n",
       "        0.00799608, 0.00799417, 0.00899553, 0.00899482, 0.00799417]),\n",
       " 'test_score': array([0.90213047, 0.91971092, 0.92768613, 0.92791076, 0.87224804,\n",
       "        0.92877801, 0.87359008, 0.87095721, 0.92934682, 0.88640483]),\n",
       " 'train_score': array([0.99988886, 0.99985918, 0.9998787 , 0.99984636, 0.99987265,\n",
       "        0.99985925, 0.99988583, 0.99984532, 0.99981329, 0.99989887])}"
      ]
     },
     "execution_count": 80,
     "metadata": {},
     "output_type": "execute_result"
    }
   ],
   "source": [
    "cross_validate(xgboost_reg, X_train, y_train, cv=10, return_train_score=True)"
   ]
  },
  {
   "cell_type": "code",
   "execution_count": 81,
   "id": "c29e1b02",
   "metadata": {},
   "outputs": [],
   "source": [
    "df_xg = pd.DataFrame(cross_validate(xgboost_reg,  X_train, y_train, cv=10, return_train_score=True))"
   ]
  },
  {
   "cell_type": "code",
   "execution_count": 82,
   "id": "809bba57",
   "metadata": {},
   "outputs": [
    {
     "data": {
      "text/plain": [
       "fit_time       1.713247\n",
       "score_time     0.008294\n",
       "test_score     0.903876\n",
       "train_score    0.999865\n",
       "dtype: float64"
      ]
     },
     "execution_count": 82,
     "metadata": {},
     "output_type": "execute_result"
    }
   ],
   "source": [
    "df_xg.mean()"
   ]
  },
  {
   "cell_type": "code",
   "execution_count": 83,
   "id": "0bd2cebd",
   "metadata": {},
   "outputs": [
    {
     "data": {
      "text/plain": [
       "0.7129316702919013"
      ]
     },
     "execution_count": 83,
     "metadata": {},
     "output_type": "execute_result"
    }
   ],
   "source": [
    "r2_score(y_test, xgboost_reg.predict(X_test))"
   ]
  },
  {
   "cell_type": "code",
   "execution_count": null,
   "id": "61447c9a",
   "metadata": {},
   "outputs": [],
   "source": []
  },
  {
   "cell_type": "code",
   "execution_count": 84,
   "id": "4a375da7",
   "metadata": {
    "id": "4a375da7"
   },
   "outputs": [],
   "source": [
    "fold = KFold(n_splits=20, shuffle=True)"
   ]
  },
  {
   "cell_type": "code",
   "execution_count": 85,
   "id": "c9680617",
   "metadata": {
    "id": "c9680617"
   },
   "outputs": [],
   "source": [
    "df2 = pd.DataFrame(cross_validate(lgm_reg, X, y, cv=fold, n_jobs=-1, return_train_score=True, \n",
    "                                  scoring=['r2', \"neg_mean_absolute_error\"]))"
   ]
  },
  {
   "cell_type": "code",
   "execution_count": 86,
   "id": "4911106e",
   "metadata": {
    "id": "4911106e",
    "outputId": "486fd533-0430-4b9a-e635-6684e49cd70c"
   },
   "outputs": [
    {
     "data": {
      "text/html": [
       "<div>\n",
       "<style scoped>\n",
       "    .dataframe tbody tr th:only-of-type {\n",
       "        vertical-align: middle;\n",
       "    }\n",
       "\n",
       "    .dataframe tbody tr th {\n",
       "        vertical-align: top;\n",
       "    }\n",
       "\n",
       "    .dataframe thead th {\n",
       "        text-align: right;\n",
       "    }\n",
       "</style>\n",
       "<table border=\"1\" class=\"dataframe\">\n",
       "  <thead>\n",
       "    <tr style=\"text-align: right;\">\n",
       "      <th></th>\n",
       "      <th>fit_time</th>\n",
       "      <th>score_time</th>\n",
       "      <th>test_r2</th>\n",
       "      <th>train_r2</th>\n",
       "      <th>test_neg_mean_absolute_error</th>\n",
       "      <th>train_neg_mean_absolute_error</th>\n",
       "      <th>test_neg_median_absolute_error</th>\n",
       "      <th>train_neg_median_absolute_error</th>\n",
       "    </tr>\n",
       "  </thead>\n",
       "  <tbody>\n",
       "    <tr>\n",
       "      <th>count</th>\n",
       "      <td>20.000000</td>\n",
       "      <td>20.000000</td>\n",
       "      <td>20.000000</td>\n",
       "      <td>20.000000</td>\n",
       "      <td>20.000000</td>\n",
       "      <td>20.000000</td>\n",
       "      <td>20.000000</td>\n",
       "      <td>20.000000</td>\n",
       "    </tr>\n",
       "    <tr>\n",
       "      <th>mean</th>\n",
       "      <td>4.746679</td>\n",
       "      <td>0.043873</td>\n",
       "      <td>0.887801</td>\n",
       "      <td>0.985959</td>\n",
       "      <td>-15595.285372</td>\n",
       "      <td>-3837.091656</td>\n",
       "      <td>-9046.288238</td>\n",
       "      <td>-2181.203673</td>\n",
       "    </tr>\n",
       "    <tr>\n",
       "      <th>std</th>\n",
       "      <td>0.437128</td>\n",
       "      <td>0.010631</td>\n",
       "      <td>0.084637</td>\n",
       "      <td>0.001436</td>\n",
       "      <td>3504.345358</td>\n",
       "      <td>91.123821</td>\n",
       "      <td>1278.501996</td>\n",
       "      <td>49.262099</td>\n",
       "    </tr>\n",
       "    <tr>\n",
       "      <th>min</th>\n",
       "      <td>4.232396</td>\n",
       "      <td>0.028983</td>\n",
       "      <td>0.563359</td>\n",
       "      <td>0.984820</td>\n",
       "      <td>-23128.649935</td>\n",
       "      <td>-3971.590566</td>\n",
       "      <td>-10693.972665</td>\n",
       "      <td>-2266.997789</td>\n",
       "    </tr>\n",
       "    <tr>\n",
       "      <th>25%</th>\n",
       "      <td>4.360065</td>\n",
       "      <td>0.037975</td>\n",
       "      <td>0.876617</td>\n",
       "      <td>0.985319</td>\n",
       "      <td>-17147.960900</td>\n",
       "      <td>-3884.637956</td>\n",
       "      <td>-10138.410545</td>\n",
       "      <td>-2205.627398</td>\n",
       "    </tr>\n",
       "    <tr>\n",
       "      <th>50%</th>\n",
       "      <td>4.656136</td>\n",
       "      <td>0.041475</td>\n",
       "      <td>0.907962</td>\n",
       "      <td>0.985608</td>\n",
       "      <td>-15250.044041</td>\n",
       "      <td>-3852.670556</td>\n",
       "      <td>-9268.849175</td>\n",
       "      <td>-2181.328711</td>\n",
       "    </tr>\n",
       "    <tr>\n",
       "      <th>75%</th>\n",
       "      <td>4.928966</td>\n",
       "      <td>0.047221</td>\n",
       "      <td>0.931045</td>\n",
       "      <td>0.986125</td>\n",
       "      <td>-12556.145515</td>\n",
       "      <td>-3807.492320</td>\n",
       "      <td>-7678.110779</td>\n",
       "      <td>-2156.637865</td>\n",
       "    </tr>\n",
       "    <tr>\n",
       "      <th>max</th>\n",
       "      <td>5.656517</td>\n",
       "      <td>0.074955</td>\n",
       "      <td>0.950361</td>\n",
       "      <td>0.991634</td>\n",
       "      <td>-11582.847305</td>\n",
       "      <td>-3631.209785</td>\n",
       "      <td>-7202.102040</td>\n",
       "      <td>-2046.384572</td>\n",
       "    </tr>\n",
       "  </tbody>\n",
       "</table>\n",
       "</div>"
      ],
      "text/plain": [
       "        fit_time  score_time    test_r2   train_r2  \\\n",
       "count  20.000000   20.000000  20.000000  20.000000   \n",
       "mean    4.746679    0.043873   0.887801   0.985959   \n",
       "std     0.437128    0.010631   0.084637   0.001436   \n",
       "min     4.232396    0.028983   0.563359   0.984820   \n",
       "25%     4.360065    0.037975   0.876617   0.985319   \n",
       "50%     4.656136    0.041475   0.907962   0.985608   \n",
       "75%     4.928966    0.047221   0.931045   0.986125   \n",
       "max     5.656517    0.074955   0.950361   0.991634   \n",
       "\n",
       "       test_neg_mean_absolute_error  train_neg_mean_absolute_error  \\\n",
       "count                     20.000000                      20.000000   \n",
       "mean                  -15595.285372                   -3837.091656   \n",
       "std                     3504.345358                      91.123821   \n",
       "min                   -23128.649935                   -3971.590566   \n",
       "25%                   -17147.960900                   -3884.637956   \n",
       "50%                   -15250.044041                   -3852.670556   \n",
       "75%                   -12556.145515                   -3807.492320   \n",
       "max                   -11582.847305                   -3631.209785   \n",
       "\n",
       "       test_neg_median_absolute_error  train_neg_median_absolute_error  \n",
       "count                       20.000000                        20.000000  \n",
       "mean                     -9046.288238                     -2181.203673  \n",
       "std                       1278.501996                        49.262099  \n",
       "min                     -10693.972665                     -2266.997789  \n",
       "25%                     -10138.410545                     -2205.627398  \n",
       "50%                      -9268.849175                     -2181.328711  \n",
       "75%                      -7678.110779                     -2156.637865  \n",
       "max                      -7202.102040                     -2046.384572  "
      ]
     },
     "execution_count": 86,
     "metadata": {},
     "output_type": "execute_result"
    }
   ],
   "source": [
    "df2.describe()"
   ]
  },
  {
   "cell_type": "code",
   "execution_count": 87,
   "id": "1e91e560",
   "metadata": {},
   "outputs": [],
   "source": [
    "df3 = pd.DataFrame(cross_validate(xgboost_reg, X, y, cv=fold, n_jobs=-1, return_train_score=True, \n",
    "                                  scoring=['r2', \"neg_mean_absolute_error\"]))"
   ]
  },
  {
   "cell_type": "code",
   "execution_count": 88,
   "id": "9e2224d9",
   "metadata": {},
   "outputs": [
    {
     "data": {
      "text/html": [
       "<div>\n",
       "<style scoped>\n",
       "    .dataframe tbody tr th:only-of-type {\n",
       "        vertical-align: middle;\n",
       "    }\n",
       "\n",
       "    .dataframe tbody tr th {\n",
       "        vertical-align: top;\n",
       "    }\n",
       "\n",
       "    .dataframe thead th {\n",
       "        text-align: right;\n",
       "    }\n",
       "</style>\n",
       "<table border=\"1\" class=\"dataframe\">\n",
       "  <thead>\n",
       "    <tr style=\"text-align: right;\">\n",
       "      <th></th>\n",
       "      <th>fit_time</th>\n",
       "      <th>score_time</th>\n",
       "      <th>test_r2</th>\n",
       "      <th>train_r2</th>\n",
       "      <th>test_neg_mean_absolute_error</th>\n",
       "      <th>train_neg_mean_absolute_error</th>\n",
       "    </tr>\n",
       "  </thead>\n",
       "  <tbody>\n",
       "    <tr>\n",
       "      <th>count</th>\n",
       "      <td>20.000000</td>\n",
       "      <td>20.000000</td>\n",
       "      <td>20.000000</td>\n",
       "      <td>20.000000</td>\n",
       "      <td>20.000000</td>\n",
       "      <td>20.000000</td>\n",
       "    </tr>\n",
       "    <tr>\n",
       "      <th>mean</th>\n",
       "      <td>7.507679</td>\n",
       "      <td>0.011893</td>\n",
       "      <td>0.856171</td>\n",
       "      <td>0.999693</td>\n",
       "      <td>-16180.453767</td>\n",
       "      <td>-1013.669152</td>\n",
       "    </tr>\n",
       "    <tr>\n",
       "      <th>std</th>\n",
       "      <td>0.419310</td>\n",
       "      <td>0.003929</td>\n",
       "      <td>0.176176</td>\n",
       "      <td>0.000044</td>\n",
       "      <td>2585.421786</td>\n",
       "      <td>70.990326</td>\n",
       "    </tr>\n",
       "    <tr>\n",
       "      <th>min</th>\n",
       "      <td>7.049660</td>\n",
       "      <td>0.008994</td>\n",
       "      <td>0.133714</td>\n",
       "      <td>0.999626</td>\n",
       "      <td>-21603.737752</td>\n",
       "      <td>-1128.691955</td>\n",
       "    </tr>\n",
       "    <tr>\n",
       "      <th>25%</th>\n",
       "      <td>7.137606</td>\n",
       "      <td>0.009744</td>\n",
       "      <td>0.862621</td>\n",
       "      <td>0.999663</td>\n",
       "      <td>-17861.598154</td>\n",
       "      <td>-1069.475605</td>\n",
       "    </tr>\n",
       "    <tr>\n",
       "      <th>50%</th>\n",
       "      <td>7.371462</td>\n",
       "      <td>0.009996</td>\n",
       "      <td>0.893289</td>\n",
       "      <td>0.999691</td>\n",
       "      <td>-16173.330177</td>\n",
       "      <td>-1006.764606</td>\n",
       "    </tr>\n",
       "    <tr>\n",
       "      <th>75%</th>\n",
       "      <td>7.821686</td>\n",
       "      <td>0.012242</td>\n",
       "      <td>0.935145</td>\n",
       "      <td>0.999726</td>\n",
       "      <td>-14869.395908</td>\n",
       "      <td>-965.515654</td>\n",
       "    </tr>\n",
       "    <tr>\n",
       "      <th>max</th>\n",
       "      <td>8.155979</td>\n",
       "      <td>0.023984</td>\n",
       "      <td>0.960667</td>\n",
       "      <td>0.999768</td>\n",
       "      <td>-11461.453390</td>\n",
       "      <td>-902.594454</td>\n",
       "    </tr>\n",
       "  </tbody>\n",
       "</table>\n",
       "</div>"
      ],
      "text/plain": [
       "        fit_time  score_time    test_r2   train_r2  \\\n",
       "count  20.000000   20.000000  20.000000  20.000000   \n",
       "mean    7.507679    0.011893   0.856171   0.999693   \n",
       "std     0.419310    0.003929   0.176176   0.000044   \n",
       "min     7.049660    0.008994   0.133714   0.999626   \n",
       "25%     7.137606    0.009744   0.862621   0.999663   \n",
       "50%     7.371462    0.009996   0.893289   0.999691   \n",
       "75%     7.821686    0.012242   0.935145   0.999726   \n",
       "max     8.155979    0.023984   0.960667   0.999768   \n",
       "\n",
       "       test_neg_mean_absolute_error  train_neg_mean_absolute_error  \n",
       "count                     20.000000                      20.000000  \n",
       "mean                  -16180.453767                   -1013.669152  \n",
       "std                     2585.421786                      70.990326  \n",
       "min                   -21603.737752                   -1128.691955  \n",
       "25%                   -17861.598154                   -1069.475605  \n",
       "50%                   -16173.330177                   -1006.764606  \n",
       "75%                   -14869.395908                    -965.515654  \n",
       "max                   -11461.453390                    -902.594454  "
      ]
     },
     "execution_count": 88,
     "metadata": {},
     "output_type": "execute_result"
    }
   ],
   "source": [
    "df3.describe()"
   ]
  },
  {
   "cell_type": "code",
   "execution_count": 92,
   "id": "ccbf4642",
   "metadata": {
    "id": "ccbf4642",
    "outputId": "34fbab19-dc86-4902-fea1-3f4ad6f1af7e"
   },
   "outputs": [
    {
     "data": {
      "text/plain": [
       "['yeni_kolonlar']"
      ]
     },
     "execution_count": 92,
     "metadata": {},
     "output_type": "execute_result"
    }
   ],
   "source": [
    "import joblib\n",
    "\n",
    "liste = X.columns.to_list()\n",
    "joblib.dump(liste, \"yeni_kolonlar\")"
   ]
  },
  {
   "cell_type": "code",
   "execution_count": 102,
   "id": "75981953",
   "metadata": {
    "id": "75981953",
    "outputId": "fdddda88-825d-43e9-adfb-4ce170451469"
   },
   "outputs": [
    {
     "data": {
      "text/plain": [
       "['yeni_tahminci.joblib']"
      ]
     },
     "execution_count": 102,
     "metadata": {},
     "output_type": "execute_result"
    }
   ],
   "source": [
    "joblib.dump(lgm_reg, \"yeni_tahminci.joblib\")"
   ]
  },
  {
   "cell_type": "code",
   "execution_count": 67,
   "id": "YhdKms53g6U6",
   "metadata": {
    "colab": {
     "base_uri": "https://localhost:8080/"
    },
    "id": "YhdKms53g6U6",
    "outputId": "915dddcd-8a9a-4b61-d40f-59335596f597"
   },
   "outputs": [
    {
     "name": "stdout",
     "output_type": "stream",
     "text": [
      "RMSE: 30207.6446 (LR) \n",
      "[28255.5291176  25832.07660469 20844.41918234 25058.07592667\n",
      " 38440.46207524 30444.23455932 23182.67198765 53459.75056606\n",
      " 23188.73351724 33370.49242692]\n",
      "RMSE: 28398.4284 (Ridge) \n",
      "[26273.77951145 25446.64422342 19841.18041346 23824.7554947\n",
      " 35470.621827   27401.48237513 20394.48961266 51355.20699418\n",
      " 22371.78463853 31604.33855051]\n",
      "RMSE: 29815.6184 (Lasso) \n",
      "[28003.25551482 25757.83385271 20548.66600199 24933.18149302\n",
      " 37116.35037236 30042.46746855 22859.70574872 52965.84693247\n",
      " 23046.31980861 32882.55703826]\n",
      "RMSE: 48561.6745 (KNN) \n",
      "[40364.1603072  35101.52200272 46552.02199736 44968.63718529\n",
      " 64782.67931237 45183.83386692 37956.75839087 67764.2554869\n",
      " 43450.96962606 59491.90672525]\n",
      "RMSE: 43476.0092 (CART) \n",
      "[38079.90043373 40811.75086877 30243.26415208 38796.61843677\n",
      " 49681.56279602 42770.12314659 40250.04940189 70186.93810732\n",
      " 39220.53821232 44719.346943  ]\n",
      "RMSE: 29018.0322 (RF) \n",
      "[24698.25140801 23388.03573858 25245.96348108 25734.01773261\n",
      " 34598.32978412 26779.48684058 22301.99064671 47789.68502797\n",
      " 25366.31972353 34278.24167354]\n",
      "RMSE: 83481.1672 (SVR) \n",
      "[ 71908.56650713  79573.60557884  81057.42223005  74054.05182055\n",
      " 102704.47332606  77687.52467258  67262.41970484 101587.23985127\n",
      "  79376.53214589  99599.83641983]\n",
      "RMSE: 27322.7622 (GBM) \n",
      "[24237.86328077 22379.10555137 23575.83966472 22496.14946356\n",
      " 31122.47749784 24853.65681056 18919.75886645 50805.01498056\n",
      " 22739.65178181 32098.10381787]\n",
      "RMSE: 30187.1495 (XGBoost) \n",
      "[26685.4160253  28450.35200954 22728.47899838 23371.47039065\n",
      " 40330.78342163 26436.12374206 21403.16474175 47894.1762743\n",
      " 27329.22848814 37242.30046655]\n",
      "RMSE: 28333.9299 (LightGBM) \n",
      "[24619.47819653 24278.1201738  24975.98275391 23117.70702367\n",
      " 34714.10398464 26296.11921813 23121.56390112 46180.275445\n",
      " 22273.82051048 33762.12741651]\n"
     ]
    }
   ],
   "source": [
    "######################################################\n",
    "# Base Models\n",
    "######################################################\n",
    "models = [('LR', LinearRegression()),\n",
    "          (\"Ridge\", Ridge(random_state=42)),\n",
    "          (\"Lasso\", Lasso(random_state=42)),\n",
    "          ('KNN', KNeighborsRegressor()),\n",
    "          ('CART', DecisionTreeRegressor(random_state=42)),\n",
    "          ('RF', RandomForestRegressor(random_state=42)),\n",
    "          ('SVR', SVR()),\n",
    "          ('GBM', GradientBoostingRegressor(random_state=42)),\n",
    "          (\"XGBoost\", XGBRegressor(objective='reg:squarederror',random_state=42)),\n",
    "          (\"LightGBM\", LGBMRegressor(random_state=42))\n",
    "          ]\n",
    "\n",
    "for name, regressor in models:\n",
    "    rmse = np.mean(np.sqrt(-cross_val_score(regressor, X, y, cv=10, scoring=\"neg_mean_squared_error\")))\n",
    "    print(f\"RMSE: {round(rmse, 4)} ({name}) \")\n",
    "    print(np.sqrt(-cross_val_score(regressor, X, y, cv=10, scoring=\"neg_mean_squared_error\")))"
   ]
  },
  {
   "cell_type": "code",
   "execution_count": 92,
   "id": "cd52d751",
   "metadata": {
    "id": "cd52d751"
   },
   "outputs": [
    {
     "data": {
      "text/html": [
       "<div>\n",
       "<style scoped>\n",
       "    .dataframe tbody tr th:only-of-type {\n",
       "        vertical-align: middle;\n",
       "    }\n",
       "\n",
       "    .dataframe tbody tr th {\n",
       "        vertical-align: top;\n",
       "    }\n",
       "\n",
       "    .dataframe thead th {\n",
       "        text-align: right;\n",
       "    }\n",
       "</style>\n",
       "<table border=\"1\" class=\"dataframe\">\n",
       "  <thead>\n",
       "    <tr style=\"text-align: right;\">\n",
       "      <th></th>\n",
       "      <th>MSSubClass</th>\n",
       "      <th>LotFrontage</th>\n",
       "      <th>LotArea</th>\n",
       "      <th>OverallQual</th>\n",
       "      <th>OverallCond</th>\n",
       "      <th>YearBuilt</th>\n",
       "      <th>YearRemodAdd</th>\n",
       "      <th>MasVnrArea</th>\n",
       "      <th>BsmtFinSF1</th>\n",
       "      <th>BsmtFinSF2</th>\n",
       "      <th>...</th>\n",
       "      <th>SaleType_ConLI</th>\n",
       "      <th>SaleType_ConLw</th>\n",
       "      <th>SaleType_New</th>\n",
       "      <th>SaleType_Oth</th>\n",
       "      <th>SaleType_WD</th>\n",
       "      <th>SaleCondition_AdjLand</th>\n",
       "      <th>SaleCondition_Alloca</th>\n",
       "      <th>SaleCondition_Family</th>\n",
       "      <th>SaleCondition_Normal</th>\n",
       "      <th>SaleCondition_Partial</th>\n",
       "    </tr>\n",
       "  </thead>\n",
       "  <tbody>\n",
       "    <tr>\n",
       "      <th>0</th>\n",
       "      <td>20</td>\n",
       "      <td>75.0</td>\n",
       "      <td>11957</td>\n",
       "      <td>8</td>\n",
       "      <td>5</td>\n",
       "      <td>2006</td>\n",
       "      <td>2006</td>\n",
       "      <td>53.0</td>\n",
       "      <td>24</td>\n",
       "      <td>0</td>\n",
       "      <td>...</td>\n",
       "      <td>0</td>\n",
       "      <td>0</td>\n",
       "      <td>0</td>\n",
       "      <td>0</td>\n",
       "      <td>1</td>\n",
       "      <td>0</td>\n",
       "      <td>0</td>\n",
       "      <td>0</td>\n",
       "      <td>1</td>\n",
       "      <td>0</td>\n",
       "    </tr>\n",
       "    <tr>\n",
       "      <th>1</th>\n",
       "      <td>60</td>\n",
       "      <td>41.0</td>\n",
       "      <td>12393</td>\n",
       "      <td>7</td>\n",
       "      <td>5</td>\n",
       "      <td>2004</td>\n",
       "      <td>2005</td>\n",
       "      <td>0.0</td>\n",
       "      <td>0</td>\n",
       "      <td>0</td>\n",
       "      <td>...</td>\n",
       "      <td>0</td>\n",
       "      <td>0</td>\n",
       "      <td>0</td>\n",
       "      <td>0</td>\n",
       "      <td>1</td>\n",
       "      <td>0</td>\n",
       "      <td>0</td>\n",
       "      <td>0</td>\n",
       "      <td>1</td>\n",
       "      <td>0</td>\n",
       "    </tr>\n",
       "    <tr>\n",
       "      <th>2</th>\n",
       "      <td>160</td>\n",
       "      <td>21.0</td>\n",
       "      <td>1953</td>\n",
       "      <td>6</td>\n",
       "      <td>5</td>\n",
       "      <td>1973</td>\n",
       "      <td>1973</td>\n",
       "      <td>408.0</td>\n",
       "      <td>309</td>\n",
       "      <td>0</td>\n",
       "      <td>...</td>\n",
       "      <td>0</td>\n",
       "      <td>0</td>\n",
       "      <td>0</td>\n",
       "      <td>0</td>\n",
       "      <td>1</td>\n",
       "      <td>0</td>\n",
       "      <td>0</td>\n",
       "      <td>0</td>\n",
       "      <td>1</td>\n",
       "      <td>0</td>\n",
       "    </tr>\n",
       "    <tr>\n",
       "      <th>3</th>\n",
       "      <td>50</td>\n",
       "      <td>50.0</td>\n",
       "      <td>6060</td>\n",
       "      <td>4</td>\n",
       "      <td>5</td>\n",
       "      <td>1939</td>\n",
       "      <td>1950</td>\n",
       "      <td>0.0</td>\n",
       "      <td>0</td>\n",
       "      <td>0</td>\n",
       "      <td>...</td>\n",
       "      <td>0</td>\n",
       "      <td>0</td>\n",
       "      <td>0</td>\n",
       "      <td>0</td>\n",
       "      <td>1</td>\n",
       "      <td>0</td>\n",
       "      <td>0</td>\n",
       "      <td>0</td>\n",
       "      <td>1</td>\n",
       "      <td>0</td>\n",
       "    </tr>\n",
       "    <tr>\n",
       "      <th>4</th>\n",
       "      <td>60</td>\n",
       "      <td>96.0</td>\n",
       "      <td>12474</td>\n",
       "      <td>10</td>\n",
       "      <td>5</td>\n",
       "      <td>2007</td>\n",
       "      <td>2008</td>\n",
       "      <td>272.0</td>\n",
       "      <td>1280</td>\n",
       "      <td>0</td>\n",
       "      <td>...</td>\n",
       "      <td>0</td>\n",
       "      <td>0</td>\n",
       "      <td>1</td>\n",
       "      <td>0</td>\n",
       "      <td>0</td>\n",
       "      <td>0</td>\n",
       "      <td>0</td>\n",
       "      <td>0</td>\n",
       "      <td>0</td>\n",
       "      <td>1</td>\n",
       "    </tr>\n",
       "  </tbody>\n",
       "</table>\n",
       "<p>5 rows × 229 columns</p>\n",
       "</div>"
      ],
      "text/plain": [
       "   MSSubClass  LotFrontage  LotArea  OverallQual  OverallCond  YearBuilt  \\\n",
       "0          20         75.0    11957            8            5       2006   \n",
       "1          60         41.0    12393            7            5       2004   \n",
       "2         160         21.0     1953            6            5       1973   \n",
       "3          50         50.0     6060            4            5       1939   \n",
       "4          60         96.0    12474           10            5       2007   \n",
       "\n",
       "   YearRemodAdd  MasVnrArea  BsmtFinSF1  BsmtFinSF2  ...  SaleType_ConLI  \\\n",
       "0          2006        53.0          24           0  ...               0   \n",
       "1          2005         0.0           0           0  ...               0   \n",
       "2          1973       408.0         309           0  ...               0   \n",
       "3          1950         0.0           0           0  ...               0   \n",
       "4          2008       272.0        1280           0  ...               0   \n",
       "\n",
       "   SaleType_ConLw  SaleType_New  SaleType_Oth  SaleType_WD  \\\n",
       "0               0             0             0            1   \n",
       "1               0             0             0            1   \n",
       "2               0             0             0            1   \n",
       "3               0             0             0            1   \n",
       "4               0             1             0            0   \n",
       "\n",
       "   SaleCondition_AdjLand  SaleCondition_Alloca  SaleCondition_Family  \\\n",
       "0                      0                     0                     0   \n",
       "1                      0                     0                     0   \n",
       "2                      0                     0                     0   \n",
       "3                      0                     0                     0   \n",
       "4                      0                     0                     0   \n",
       "\n",
       "   SaleCondition_Normal  SaleCondition_Partial  \n",
       "0                     1                      0  \n",
       "1                     1                      0  \n",
       "2                     1                      0  \n",
       "3                     1                      0  \n",
       "4                     0                      1  \n",
       "\n",
       "[5 rows x 229 columns]"
      ]
     },
     "execution_count": 92,
     "metadata": {},
     "output_type": "execute_result"
    }
   ],
   "source": [
    "X.head()"
   ]
  },
  {
   "cell_type": "code",
   "execution_count": 93,
   "id": "dfe2d6d3",
   "metadata": {},
   "outputs": [
    {
     "data": {
      "text/html": [
       "<div>\n",
       "<style scoped>\n",
       "    .dataframe tbody tr th:only-of-type {\n",
       "        vertical-align: middle;\n",
       "    }\n",
       "\n",
       "    .dataframe tbody tr th {\n",
       "        vertical-align: top;\n",
       "    }\n",
       "\n",
       "    .dataframe thead th {\n",
       "        text-align: right;\n",
       "    }\n",
       "</style>\n",
       "<table border=\"1\" class=\"dataframe\">\n",
       "  <thead>\n",
       "    <tr style=\"text-align: right;\">\n",
       "      <th></th>\n",
       "      <th>LotFrontage</th>\n",
       "      <th>LotArea</th>\n",
       "      <th>A</th>\n",
       "    </tr>\n",
       "  </thead>\n",
       "  <tbody>\n",
       "    <tr>\n",
       "      <th>0</th>\n",
       "      <td>75.0</td>\n",
       "      <td>11957</td>\n",
       "      <td>NaN</td>\n",
       "    </tr>\n",
       "    <tr>\n",
       "      <th>1</th>\n",
       "      <td>41.0</td>\n",
       "      <td>12393</td>\n",
       "      <td>NaN</td>\n",
       "    </tr>\n",
       "    <tr>\n",
       "      <th>2</th>\n",
       "      <td>21.0</td>\n",
       "      <td>1953</td>\n",
       "      <td>NaN</td>\n",
       "    </tr>\n",
       "    <tr>\n",
       "      <th>3</th>\n",
       "      <td>50.0</td>\n",
       "      <td>6060</td>\n",
       "      <td>NaN</td>\n",
       "    </tr>\n",
       "    <tr>\n",
       "      <th>4</th>\n",
       "      <td>96.0</td>\n",
       "      <td>12474</td>\n",
       "      <td>NaN</td>\n",
       "    </tr>\n",
       "    <tr>\n",
       "      <th>...</th>\n",
       "      <td>...</td>\n",
       "      <td>...</td>\n",
       "      <td>...</td>\n",
       "    </tr>\n",
       "    <tr>\n",
       "      <th>1163</th>\n",
       "      <td>59.0</td>\n",
       "      <td>10690</td>\n",
       "      <td>NaN</td>\n",
       "    </tr>\n",
       "    <tr>\n",
       "      <th>1164</th>\n",
       "      <td>80.0</td>\n",
       "      <td>8816</td>\n",
       "      <td>NaN</td>\n",
       "    </tr>\n",
       "    <tr>\n",
       "      <th>1165</th>\n",
       "      <td>60.0</td>\n",
       "      <td>6780</td>\n",
       "      <td>NaN</td>\n",
       "    </tr>\n",
       "    <tr>\n",
       "      <th>1166</th>\n",
       "      <td>67.0</td>\n",
       "      <td>10656</td>\n",
       "      <td>NaN</td>\n",
       "    </tr>\n",
       "    <tr>\n",
       "      <th>1167</th>\n",
       "      <td>96.0</td>\n",
       "      <td>12444</td>\n",
       "      <td>NaN</td>\n",
       "    </tr>\n",
       "  </tbody>\n",
       "</table>\n",
       "<p>1168 rows × 3 columns</p>\n",
       "</div>"
      ],
      "text/plain": [
       "      LotFrontage  LotArea   A\n",
       "0            75.0    11957 NaN\n",
       "1            41.0    12393 NaN\n",
       "2            21.0     1953 NaN\n",
       "3            50.0     6060 NaN\n",
       "4            96.0    12474 NaN\n",
       "...           ...      ...  ..\n",
       "1163         59.0    10690 NaN\n",
       "1164         80.0     8816 NaN\n",
       "1165         60.0     6780 NaN\n",
       "1166         67.0    10656 NaN\n",
       "1167         96.0    12444 NaN\n",
       "\n",
       "[1168 rows x 3 columns]"
      ]
     },
     "execution_count": 93,
     "metadata": {},
     "output_type": "execute_result"
    }
   ],
   "source": [
    "X.reindex([\"LotFrontage\",\"LotArea\", \"A\"], axis=1)"
   ]
  },
  {
   "cell_type": "code",
   "execution_count": null,
   "id": "a6f236b0",
   "metadata": {},
   "outputs": [],
   "source": []
  }
 ],
 "metadata": {
  "colab": {
   "collapsed_sections": [],
   "name": "modelim.ipynb",
   "provenance": []
  },
  "kernelspec": {
   "display_name": "cg1",
   "language": "python",
   "name": "cg1"
  },
  "language_info": {
   "codemirror_mode": {
    "name": "ipython",
    "version": 3
   },
   "file_extension": ".py",
   "mimetype": "text/x-python",
   "name": "python",
   "nbconvert_exporter": "python",
   "pygments_lexer": "ipython3",
   "version": "3.8.12"
  }
 },
 "nbformat": 4,
 "nbformat_minor": 5
}
